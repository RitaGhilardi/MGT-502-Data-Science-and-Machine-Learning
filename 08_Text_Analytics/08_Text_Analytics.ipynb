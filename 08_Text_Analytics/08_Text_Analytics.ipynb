{
 "cells": [
  {
   "cell_type": "code",
   "execution_count": 4,
   "metadata": {},
   "outputs": [
    {
     "name": "stdout",
     "output_type": "stream",
     "text": [
      "Collecting spacy\n",
      "  Downloading spacy-3.5.2-cp39-cp39-macosx_10_9_x86_64.whl (6.9 MB)\n",
      "\u001b[2K     \u001b[90m━━━━━━━━━━━━━━━━━━━━━━━━━━━━━━━━━━━━━━━━\u001b[0m \u001b[32m6.9/6.9 MB\u001b[0m \u001b[31m12.0 MB/s\u001b[0m eta \u001b[36m0:00:00\u001b[0m00:01\u001b[0m00:01\u001b[0m\n",
      "\u001b[?25hRequirement already satisfied: packaging>=20.0 in /Users/rita/opt/anaconda3/lib/python3.9/site-packages (from spacy) (21.3)\n",
      "Collecting typer<0.8.0,>=0.3.0\n",
      "  Downloading typer-0.7.0-py3-none-any.whl (38 kB)\n",
      "Requirement already satisfied: setuptools in /Users/rita/opt/anaconda3/lib/python3.9/site-packages (from spacy) (63.4.1)\n",
      "Collecting wasabi<1.2.0,>=0.9.1\n",
      "  Downloading wasabi-1.1.1-py3-none-any.whl (27 kB)\n",
      "Requirement already satisfied: tqdm<5.0.0,>=4.38.0 in /Users/rita/opt/anaconda3/lib/python3.9/site-packages (from spacy) (4.64.0)\n",
      "Collecting catalogue<2.1.0,>=2.0.6\n",
      "  Downloading catalogue-2.0.8-py3-none-any.whl (17 kB)\n",
      "Collecting murmurhash<1.1.0,>=0.28.0\n",
      "  Downloading murmurhash-1.0.9-cp39-cp39-macosx_10_9_x86_64.whl (18 kB)\n",
      "Requirement already satisfied: numpy>=1.15.0 in /Users/rita/opt/anaconda3/lib/python3.9/site-packages (from spacy) (1.21.5)\n",
      "Requirement already satisfied: requests<3.0.0,>=2.13.0 in /Users/rita/opt/anaconda3/lib/python3.9/site-packages (from spacy) (2.28.1)\n",
      "Collecting spacy-loggers<2.0.0,>=1.0.0\n",
      "  Downloading spacy_loggers-1.0.4-py3-none-any.whl (11 kB)\n",
      "Requirement already satisfied: jinja2 in /Users/rita/opt/anaconda3/lib/python3.9/site-packages (from spacy) (2.11.3)\n",
      "Collecting srsly<3.0.0,>=2.4.3\n",
      "  Downloading srsly-2.4.6-cp39-cp39-macosx_10_9_x86_64.whl (492 kB)\n",
      "\u001b[2K     \u001b[90m━━━━━━━━━━━━━━━━━━━━━━━━━━━━━━━━━━━━━━━\u001b[0m \u001b[32m492.2/492.2 kB\u001b[0m \u001b[31m8.6 MB/s\u001b[0m eta \u001b[36m0:00:00\u001b[0m00:01\u001b[0m\n",
      "\u001b[?25hCollecting preshed<3.1.0,>=3.0.2\n",
      "  Downloading preshed-3.0.8-cp39-cp39-macosx_10_9_x86_64.whl (107 kB)\n",
      "\u001b[2K     \u001b[90m━━━━━━━━━━━━━━━━━━━━━━━━━━━━━━━━━━━━━━━\u001b[0m \u001b[32m107.9/107.9 kB\u001b[0m \u001b[31m2.8 MB/s\u001b[0m eta \u001b[36m0:00:00\u001b[0m\n",
      "\u001b[?25hCollecting langcodes<4.0.0,>=3.2.0\n",
      "  Downloading langcodes-3.3.0-py3-none-any.whl (181 kB)\n",
      "\u001b[2K     \u001b[90m━━━━━━━━━━━━━━━━━━━━━━━━━━━━━━━━━━━━━━━\u001b[0m \u001b[32m181.6/181.6 kB\u001b[0m \u001b[31m4.9 MB/s\u001b[0m eta \u001b[36m0:00:00\u001b[0m\n",
      "\u001b[?25hCollecting cymem<2.1.0,>=2.0.2\n",
      "  Downloading cymem-2.0.7-cp39-cp39-macosx_10_9_x86_64.whl (32 kB)\n",
      "Requirement already satisfied: smart-open<7.0.0,>=5.2.1 in /Users/rita/opt/anaconda3/lib/python3.9/site-packages (from spacy) (5.2.1)\n",
      "Collecting thinc<8.2.0,>=8.1.8\n",
      "  Downloading thinc-8.1.9-cp39-cp39-macosx_10_9_x86_64.whl (865 kB)\n",
      "\u001b[2K     \u001b[90m━━━━━━━━━━━━━━━━━━━━━━━━━━━━━━━━━━━━━━━\u001b[0m \u001b[32m865.2/865.2 kB\u001b[0m \u001b[31m9.3 MB/s\u001b[0m eta \u001b[36m0:00:00\u001b[0m00:01\u001b[0m00:01\u001b[0m\n",
      "\u001b[?25hCollecting pydantic!=1.8,!=1.8.1,<1.11.0,>=1.7.4\n",
      "  Downloading pydantic-1.10.7-cp39-cp39-macosx_10_9_x86_64.whl (2.9 MB)\n",
      "\u001b[2K     \u001b[90m━━━━━━━━━━━━━━━━━━━━━━━━━━━━━━━━━━━━━━━━\u001b[0m \u001b[32m2.9/2.9 MB\u001b[0m \u001b[31m12.7 MB/s\u001b[0m eta \u001b[36m0:00:00\u001b[0ma \u001b[36m0:00:01\u001b[0m\n",
      "\u001b[?25hCollecting spacy-legacy<3.1.0,>=3.0.11\n",
      "  Downloading spacy_legacy-3.0.12-py2.py3-none-any.whl (29 kB)\n",
      "Collecting pathy>=0.10.0\n",
      "  Downloading pathy-0.10.1-py3-none-any.whl (48 kB)\n",
      "\u001b[2K     \u001b[90m━━━━━━━━━━━━━━━━━━━━━━━━━━━━━━━━━━━━━━━━\u001b[0m \u001b[32m48.9/48.9 kB\u001b[0m \u001b[31m1.3 MB/s\u001b[0m eta \u001b[36m0:00:00\u001b[0m\n",
      "\u001b[?25hRequirement already satisfied: pyparsing!=3.0.5,>=2.0.2 in /Users/rita/opt/anaconda3/lib/python3.9/site-packages (from packaging>=20.0->spacy) (3.0.9)\n",
      "Requirement already satisfied: typing-extensions>=4.2.0 in /Users/rita/opt/anaconda3/lib/python3.9/site-packages (from pydantic!=1.8,!=1.8.1,<1.11.0,>=1.7.4->spacy) (4.3.0)\n",
      "Requirement already satisfied: idna<4,>=2.5 in /Users/rita/opt/anaconda3/lib/python3.9/site-packages (from requests<3.0.0,>=2.13.0->spacy) (3.3)\n",
      "Requirement already satisfied: charset-normalizer<3,>=2 in /Users/rita/opt/anaconda3/lib/python3.9/site-packages (from requests<3.0.0,>=2.13.0->spacy) (2.0.4)\n",
      "Requirement already satisfied: urllib3<1.27,>=1.21.1 in /Users/rita/opt/anaconda3/lib/python3.9/site-packages (from requests<3.0.0,>=2.13.0->spacy) (1.26.11)\n",
      "Requirement already satisfied: certifi>=2017.4.17 in /Users/rita/opt/anaconda3/lib/python3.9/site-packages (from requests<3.0.0,>=2.13.0->spacy) (2022.9.24)\n",
      "Collecting confection<1.0.0,>=0.0.1\n",
      "  Downloading confection-0.0.4-py3-none-any.whl (32 kB)\n",
      "Collecting blis<0.8.0,>=0.7.8\n",
      "  Downloading blis-0.7.9-cp39-cp39-macosx_10_9_x86_64.whl (6.1 MB)\n",
      "\u001b[2K     \u001b[90m━━━━━━━━━━━━━━━━━━━━━━━━━━━━━━━━━━━━━━━━\u001b[0m \u001b[32m6.1/6.1 MB\u001b[0m \u001b[31m10.3 MB/s\u001b[0m eta \u001b[36m0:00:00\u001b[0m00:01\u001b[0m00:01\u001b[0m\n",
      "\u001b[?25hRequirement already satisfied: click<9.0.0,>=7.1.1 in /Users/rita/opt/anaconda3/lib/python3.9/site-packages (from typer<0.8.0,>=0.3.0->spacy) (8.0.4)\n",
      "Requirement already satisfied: MarkupSafe>=0.23 in /Users/rita/opt/anaconda3/lib/python3.9/site-packages (from jinja2->spacy) (2.0.1)\n",
      "Installing collected packages: cymem, wasabi, typer, spacy-loggers, spacy-legacy, pydantic, murmurhash, langcodes, catalogue, blis, srsly, preshed, pathy, confection, thinc, spacy\n",
      "Successfully installed blis-0.7.9 catalogue-2.0.8 confection-0.0.4 cymem-2.0.7 langcodes-3.3.0 murmurhash-1.0.9 pathy-0.10.1 preshed-3.0.8 pydantic-1.10.7 spacy-3.5.2 spacy-legacy-3.0.12 spacy-loggers-1.0.4 srsly-2.4.6 thinc-8.1.9 typer-0.7.0 wasabi-1.1.1\n",
      "Note: you may need to restart the kernel to use updated packages.\n"
     ]
    }
   ],
   "source": [
    "pip install spacy"
   ]
  },
  {
   "cell_type": "code",
   "execution_count": 6,
   "metadata": {},
   "outputs": [
    {
     "name": "stdout",
     "output_type": "stream",
     "text": [
      "Collecting wikipedia\n",
      "  Downloading wikipedia-1.4.0.tar.gz (27 kB)\n",
      "  Preparing metadata (setup.py) ... \u001b[?25ldone\n",
      "\u001b[?25hRequirement already satisfied: beautifulsoup4 in /Users/rita/opt/anaconda3/lib/python3.9/site-packages (from wikipedia) (4.11.1)\n",
      "Requirement already satisfied: requests<3.0.0,>=2.0.0 in /Users/rita/opt/anaconda3/lib/python3.9/site-packages (from wikipedia) (2.28.1)\n",
      "Requirement already satisfied: idna<4,>=2.5 in /Users/rita/opt/anaconda3/lib/python3.9/site-packages (from requests<3.0.0,>=2.0.0->wikipedia) (3.3)\n",
      "Requirement already satisfied: charset-normalizer<3,>=2 in /Users/rita/opt/anaconda3/lib/python3.9/site-packages (from requests<3.0.0,>=2.0.0->wikipedia) (2.0.4)\n",
      "Requirement already satisfied: urllib3<1.27,>=1.21.1 in /Users/rita/opt/anaconda3/lib/python3.9/site-packages (from requests<3.0.0,>=2.0.0->wikipedia) (1.26.11)\n",
      "Requirement already satisfied: certifi>=2017.4.17 in /Users/rita/opt/anaconda3/lib/python3.9/site-packages (from requests<3.0.0,>=2.0.0->wikipedia) (2022.9.24)\n",
      "Requirement already satisfied: soupsieve>1.2 in /Users/rita/opt/anaconda3/lib/python3.9/site-packages (from beautifulsoup4->wikipedia) (2.3.1)\n",
      "Building wheels for collected packages: wikipedia\n",
      "  Building wheel for wikipedia (setup.py) ... \u001b[?25ldone\n",
      "\u001b[?25h  Created wheel for wikipedia: filename=wikipedia-1.4.0-py3-none-any.whl size=11680 sha256=f0e0070603de3ee1e7d925d3859c5512beda09f6aa80f7083b5d475bc5f64638\n",
      "  Stored in directory: /Users/rita/Library/Caches/pip/wheels/c2/46/f4/caa1bee71096d7b0cdca2f2a2af45cacf35c5760bee8f00948\n",
      "Successfully built wikipedia\n",
      "Installing collected packages: wikipedia\n",
      "Successfully installed wikipedia-1.4.0\n",
      "Note: you may need to restart the kernel to use updated packages.\n"
     ]
    }
   ],
   "source": [
    "pip install wikipedia"
   ]
  },
  {
   "cell_type": "code",
   "execution_count": 7,
   "metadata": {},
   "outputs": [],
   "source": [
    "# Import standard libraries\n",
    "import pandas as pd\n",
    "import numpy as np\n",
    "import math\n",
    "import bs4 as bs\n",
    "import urllib.request\n",
    "import matplotlib.pyplot as plt\n",
    "import seaborn as sns\n",
    "import ipywidgets as widgets\n",
    "from ipywidgets import interact, interact_manual\n",
    "\n",
    "# Import for text analytics\n",
    "import spacy\n",
    "from spacy import displacy\n",
    "from sklearn.feature_extraction.text import CountVectorizer, TfidfVectorizer\n",
    "from sklearn.metrics.pairwise import cosine_similarity\n",
    "import string\n",
    "import wikipedia"
   ]
  },
  {
   "cell_type": "markdown",
   "metadata": {},
   "source": [
    "# Text Analytics\n",
    "\n",
    "<img src='https://images.unsplash.com/photo-1605429201125-37e867327609?ixlib=rb-4.0.3&ixid=MnwxMjA3fDB8MHxwaG90by1wYWdlfHx8fGVufDB8fHx8&auto=format&fit=crop&w=1176&q=80' width=\"450\">\n",
    "\n",
    "Credit: [Piotr Łaskawski](https://unsplash.com/@tot87)"
   ]
  },
  {
   "cell_type": "markdown",
   "metadata": {
    "id": "onO46LysT2dh"
   },
   "source": [
    "## Content\n",
    "\n",
    "The goal of this walkthrough is to provide you with insights on text analytics. [Text Analytics](https://en.wikipedia.org/wiki/Text_mining) (or text mining) is \"the discovery by computer of new, previously unknown information, by automatically extracting information from different written resources.\" ([Marti Hearst](https://people.ischool.berkeley.edu/~hearst/text-mining.html)). Written resources may include websites, books, emails, reviews, and articles.\n",
    "\n",
    "There are many applications of text analytics, for example:\n",
    "- Search for relevant websites or articles using a search engine;\n",
    "- Sentiment Analysis (e.g., classify tweets or film reviews as positive, neutral or negative);\n",
    "- Summarize, anonymize, or translate documents;\n",
    "- Chatbots (e.g., ChatGPT, Siri, Alexa);\n",
    "- etc.\n",
    "\n",
    "In this notebook, we will see how to prepare and represent texts and explore various text-analytics techniques, before doing an application on text similarity:\n",
    "- [Text Preparation](#Text-Preparation)\n",
    "    - [Tokenization](#Tokenization)\n",
    "    - [Remove Stopwords](#Remove-Stopwords)\n",
    "    - [Lemmatization](#Lemmatization)\n",
    "    - [Your turn!](#Your-turn-Preparation)\n",
    "- [Text structure](#Text-structure)\n",
    "    - [Dependency Parsing](#Dependency-Parsing)\n",
    "    - [Entity Detection](#Entity-Detection)\n",
    "    - [Your turn!](#Your-turn-structure)\n",
    "- [Text Representation](#Text-Representation)\n",
    "    - [Bag of Words (BOW)](#Bag-of-Words-(BOW))\n",
    "    - [TF-IDF Representation](#TF-IDF-Representation)\n",
    "    - [Your turn!](#Your-turn-Representation)\n",
    "- [Application: Text Similarity](#Application:-Text-Similarity)\n",
    "    - [Converting text into vectors](#Converting-text-into-vectors)\n",
    "    - [Cosine similarity](#Cosine-similarity)\n",
    "    - [Your turn!](#Your-turn-Similarity)"
   ]
  },
  {
   "cell_type": "markdown",
   "metadata": {
    "id": "RXlVy05IUC-D"
   },
   "source": [
    "## Text Preparation\n",
    "\n",
    "In this section, we explain how to prepare a text for analysis. This includes tokenizing the text, removing stopwords, etc. \n",
    "\n",
    "We will use the [spaCy](https://spacy.io/) library, an open-source natural language processing library for Python. It is designed particularly for production use, and it can help us to build applications that process massive volumes of text efficiently.\n",
    "\n",
    "You can directly [install the library](https://spacy.io/usage) in your Anaconda environment, or, if you opened this notebook in Colab, with the following line of code: \n",
    "```python\n",
    "!pip install -U spacy\n",
    "```\n",
    "\n",
    "We also install the English-language model: in you Anaconda environment install \"spacy-model-en_core_web_sm\"; in Colab, run the following line of code: \n",
    "```python\n",
    "!python -m spacy download en_core_web_sm\n",
    "```\n",
    "\n",
    "Note: If you obtain the error `Caused by SSLError(SSLCertVerificationError(1, '[SSL: CERTIFICATE_VERIFY_FAILED] certificate verify failed\"`, try the following: \n",
    "```python\n",
    "!pip --trusted-host github.com --trusted-host objects.githubusercontent.com install https://github.com/explosion/spacy-models/releases/download/en_core_web_sm-3.5.0/en_core_web_sm-3.5.0.tar.gz\n",
    "```"
   ]
  },
  {
   "cell_type": "markdown",
   "metadata": {},
   "source": [
    "Once everything is installed, and imported (at the beginning of this notebook), we can load our language dictionary, namely the English language model, using `spacy.load('en_core_web_sm')`:"
   ]
  },
  {
   "cell_type": "code",
   "execution_count": 9,
   "metadata": {},
   "outputs": [],
   "source": [
    "# Load English language model\n",
    "sp = spacy.load('en_core_web_sm')"
   ]
  },
  {
   "cell_type": "markdown",
   "metadata": {
    "id": "XUibE-SyTp8d"
   },
   "source": [
    "### Tokenization\n",
    "\n",
    "**Tokenization** is the process of breaking a text into pieces called tokens. A **token** simply refers to an individual part of a sentence having some semantic value. In other words, tokens are the elementary building blocks (words, numbers, characters) in a document. \n",
    "\n",
    "SpaCy's tokenizer takes input in form of unicode text and outputs a sequence of token objects. In addition, SpaCy automatically breaks your document into tokens when a document is created using the language model.\n",
    "\n",
    "There are a couple of different ways we can approach this. The first is called **word tokenization**, which means breaking up the text into individual words. This is a critical step for many language processing applications, as they often require inputs in the form of individual words rather than longer strings of text."
   ]
  },
  {
   "cell_type": "markdown",
   "metadata": {},
   "source": [
    "Let’s take a look at a simple example. Imagine we have the following text, and we would like to tokenize it:\n",
    "\n",
    "> When learning data science, you shouldn't get discouraged!\n",
    "\n",
    "> Challenges and setbacks aren't failures, they're just part of the journey. You've got this!\n",
    "\n",
    "We create a spaCy object, which contains linguistic annotations and various language properties:"
   ]
  },
  {
   "cell_type": "code",
   "execution_count": 10,
   "metadata": {
    "colab": {
     "base_uri": "https://localhost:8080/"
    },
    "id": "Dj9OfB1BTp8e",
    "outputId": "f2c13015-b33d-416f-bcf9-0299e572c720"
   },
   "outputs": [
    {
     "data": {
      "text/plain": [
       "When learning data science, you shouldn't get discouraged!\n",
       "Challenges and setbacks aren't failures, they're just part of the journey. You've got this!"
      ]
     },
     "execution_count": 10,
     "metadata": {},
     "output_type": "execute_result"
    }
   ],
   "source": [
    "# Declare text\n",
    "text = \"\"\"When learning data science, you shouldn't get discouraged!\n",
    "Challenges and setbacks aren't failures, they're just part of the journey. You've got this!\"\"\"\n",
    "\n",
    "# spaCy object is used to create a document\n",
    "my_doc = sp(text)\n",
    "\n",
    "my_doc"
   ]
  },
  {
   "cell_type": "code",
   "execution_count": 11,
   "metadata": {
    "colab": {
     "base_uri": "https://localhost:8080/"
    },
    "id": "hc7fwTbPZdXJ",
    "outputId": "7ef4ce1e-7219-47f4-8f27-9b03fffaf77b"
   },
   "outputs": [
    {
     "data": {
      "text/plain": [
       "spacy.tokens.doc.Doc"
      ]
     },
     "execution_count": 11,
     "metadata": {},
     "output_type": "execute_result"
    }
   ],
   "source": [
    "# This is a spaCy document\n",
    "type(my_doc)"
   ]
  },
  {
   "cell_type": "markdown",
   "metadata": {},
   "source": [
    "Let's now create a list of tokens:"
   ]
  },
  {
   "cell_type": "code",
   "execution_count": 12,
   "metadata": {
    "colab": {
     "base_uri": "https://localhost:8080/"
    },
    "id": "ex7-T-BkYXZM",
    "outputId": "300dae65-c000-4b90-fdb2-b21dd474742a"
   },
   "outputs": [
    {
     "data": {
      "text/plain": [
       "['When',\n",
       " 'learning',\n",
       " 'data',\n",
       " 'science',\n",
       " ',',\n",
       " 'you',\n",
       " 'should',\n",
       " \"n't\",\n",
       " 'get',\n",
       " 'discouraged',\n",
       " '!',\n",
       " '\\n',\n",
       " 'Challenges',\n",
       " 'and',\n",
       " 'setbacks',\n",
       " 'are',\n",
       " \"n't\",\n",
       " 'failures',\n",
       " ',',\n",
       " 'they',\n",
       " \"'re\",\n",
       " 'just',\n",
       " 'part',\n",
       " 'of',\n",
       " 'the',\n",
       " 'journey',\n",
       " '.',\n",
       " 'You',\n",
       " \"'ve\",\n",
       " 'got',\n",
       " 'this',\n",
       " '!']"
      ]
     },
     "execution_count": 12,
     "metadata": {},
     "output_type": "execute_result"
    }
   ],
   "source": [
    "# Create list of tokens\n",
    "token_list = [token.text for token in my_doc]\n",
    "token_list"
   ]
  },
  {
   "cell_type": "markdown",
   "metadata": {
    "id": "Xi29AcSsTp8j"
   },
   "source": [
    "As we can see, spaCy produces a list that contains each token as a separate item. Notice that it has recognized that contractions such as _shouldn’t_ actually represent two distinct words, and has thus broken them down into two distinct tokens.\n",
    "\n",
    "We can also see the parts-of-speech (POS) of each of these tokens using the `.pos_` attribute, as shown below."
   ]
  },
  {
   "cell_type": "code",
   "execution_count": 13,
   "metadata": {
    "colab": {
     "base_uri": "https://localhost:8080/"
    },
    "id": "NvkGwDJoWoIs",
    "outputId": "9459553d-e026-43b8-ba5b-3fe104a62687"
   },
   "outputs": [
    {
     "name": "stdout",
     "output_type": "stream",
     "text": [
      "When -> SCONJ\n",
      "learning -> VERB\n",
      "data -> NOUN\n",
      "science -> NOUN\n",
      ", -> PUNCT\n",
      "you -> PRON\n",
      "should -> AUX\n",
      "n't -> PART\n",
      "get -> AUX\n",
      "discouraged -> VERB\n",
      "! -> PUNCT\n",
      "\n",
      " -> SPACE\n",
      "Challenges -> NOUN\n",
      "and -> CCONJ\n",
      "setbacks -> NOUN\n",
      "are -> AUX\n",
      "n't -> PART\n",
      "failures -> NOUN\n",
      ", -> PUNCT\n",
      "they -> PRON\n",
      "'re -> AUX\n",
      "just -> ADV\n",
      "part -> NOUN\n",
      "of -> ADP\n",
      "the -> DET\n",
      "journey -> NOUN\n",
      ". -> PUNCT\n",
      "You -> PRON\n",
      "'ve -> AUX\n",
      "got -> VERB\n",
      "this -> PRON\n",
      "! -> PUNCT\n"
     ]
    }
   ],
   "source": [
    "# POS\n",
    "for word in my_doc:\n",
    "    print(word.text, '->', word.pos_)"
   ]
  },
  {
   "cell_type": "markdown",
   "metadata": {},
   "source": [
    "POS tagging can be really useful, particularly if you have words or tokens that can have multiple POS tags. For instance, the word \"fish\" can be used as both a noun and verb, depending upon the context:"
   ]
  },
  {
   "cell_type": "code",
   "execution_count": 14,
   "metadata": {
    "colab": {
     "base_uri": "https://localhost:8080/"
    },
    "id": "cUsKHgp7Y3yM",
    "outputId": "ef4d07ce-c42c-4094-934a-66513f630bb7"
   },
   "outputs": [
    {
     "name": "stdout",
     "output_type": "stream",
     "text": [
      "I -> PRON\n",
      "like -> VERB\n",
      "to -> PART\n",
      "fish -> VERB\n",
      "-----------------\n",
      "I -> PRON\n",
      "eat -> VERB\n",
      "a -> DET\n",
      "fish -> NOUN\n"
     ]
    }
   ],
   "source": [
    "# Another example\n",
    "doc1 = sp(\"I like to fish\") # verb\n",
    "doc2 = sp(\"I eat a fish\") # noun\n",
    "\n",
    "for word in doc1:\n",
    "    print(word.text, '->', word.pos_)\n",
    "\n",
    "print(\"-----------------\")\n",
    "\n",
    "for word in doc2:\n",
    "    print(word.text, '->', word.pos_)"
   ]
  },
  {
   "cell_type": "markdown",
   "metadata": {
    "id": "dCiU1-PDXKpp"
   },
   "source": [
    "If we want, we can also break the text into sentences rather than words. This is called **sentence tokenization**. When performing sentence tokenization, the tokenizer looks for specific characters that normally fall between sentences, like periods, exclamation points, and newline characters."
   ]
  },
  {
   "cell_type": "code",
   "execution_count": 15,
   "metadata": {
    "colab": {
     "base_uri": "https://localhost:8080/"
    },
    "id": "odi_WkNZTp8k",
    "outputId": "740de7d3-9f7b-47c1-da0f-94e15648ef07"
   },
   "outputs": [
    {
     "data": {
      "text/plain": [
       "[\"When learning data science, you shouldn't get discouraged!\\n\",\n",
       " \"Challenges and setbacks aren't failures, they're just part of the journey.\",\n",
       " \"You've got this!\"]"
      ]
     },
     "execution_count": 15,
     "metadata": {},
     "output_type": "execute_result"
    }
   ],
   "source": [
    "# create list of sentence tokens\n",
    "sents_list = [sent.text for sent in my_doc.sents]\n",
    "\n",
    "sents_list"
   ]
  },
  {
   "cell_type": "markdown",
   "metadata": {
    "id": "Q_Z6MiCtTp8n"
   },
   "source": [
    "### Remove Stopwords\n",
    "\n",
    "Most text data that we work with is going to contain a lot of words that are not actually useful to our analysis (e.g., \"is\", \"and\", \"you\", etc.). These words, called **stopwords**, are useful in human speech, but they do not have much to contribute to the meaning of a sentence. Removing stopwords helps us eliminate noise and distraction from our text data, and also speeds up the time of the analysis (since there are fewer words to process). This makes text analysis more efficient.\n",
    "\n",
    "\n",
    "Let’s take a look at the stopwords spaCy includes by default."
   ]
  },
  {
   "cell_type": "code",
   "execution_count": 16,
   "metadata": {
    "colab": {
     "base_uri": "https://localhost:8080/"
    },
    "id": "_kB8kI0eTp8o",
    "outputId": "0d980a3e-3b63-471b-f761-3ef205f7d2f6"
   },
   "outputs": [
    {
     "name": "stdout",
     "output_type": "stream",
     "text": [
      "Number of stopwords: 326\n",
      "20 stopwords: ['that', 'beside', '’ve', 'will', 'along', 'get', 'more', \"'m\", 'latterly', 'no', 'therefore', 'to', 'ours', 'twelve', 'myself', 'back', 'had', 'whereby', 'and', 'a']\n"
     ]
    }
   ],
   "source": [
    "# Import stopwords from English language\n",
    "spacy_stopwords = spacy.lang.en.stop_words.STOP_WORDS\n",
    "\n",
    "# Print total number of stopwords\n",
    "print('Number of stopwords: %d' % len(spacy_stopwords))\n",
    "\n",
    "# Print 20 stopwords\n",
    "print('20 stopwords: %s' % list(spacy_stopwords)[:20])"
   ]
  },
  {
   "cell_type": "markdown",
   "metadata": {
    "id": "aw0Wfvu4Tp8q"
   },
   "source": [
    "Now that we’ve got our list of stopwords, let’s use it to remove the stopwords from the text string we were working on in the previous section."
   ]
  },
  {
   "cell_type": "code",
   "execution_count": 17,
   "metadata": {
    "colab": {
     "base_uri": "https://localhost:8080/"
    },
    "id": "Eq5yvoZtlhsd",
    "outputId": "8566b4f1-3c53-4650-a193-3c9a89ffe276"
   },
   "outputs": [
    {
     "data": {
      "text/plain": [
       "When learning data science, you shouldn't get discouraged!\n",
       "Challenges and setbacks aren't failures, they're just part of the journey. You've got this!"
      ]
     },
     "execution_count": 17,
     "metadata": {},
     "output_type": "execute_result"
    }
   ],
   "source": [
    "# Which words will be removed?\n",
    "my_doc"
   ]
  },
  {
   "cell_type": "code",
   "execution_count": 18,
   "metadata": {
    "colab": {
     "base_uri": "https://localhost:8080/"
    },
    "id": "y54Kiz9zTp8r",
    "outputId": "45d56d1f-76e5-4270-9757-f142ce8b5656"
   },
   "outputs": [
    {
     "name": "stdout",
     "output_type": "stream",
     "text": [
      "The filtered sentence contains the words: ['learning', 'data', 'science', ',', 'discouraged', '!', '\\n', 'Challenges', 'setbacks', 'failures', ',', 'journey', '.', 'got', '!']\n"
     ]
    }
   ],
   "source": [
    "# Filter stopwords\n",
    "filtered_sent = [word.text for word in my_doc if word.is_stop == False]\n",
    "\n",
    "print('The filtered sentence contains the words:', filtered_sent)"
   ]
  },
  {
   "cell_type": "markdown",
   "metadata": {},
   "source": [
    "We can also remove the punctuation:"
   ]
  },
  {
   "cell_type": "code",
   "execution_count": 19,
   "metadata": {
    "colab": {
     "base_uri": "https://localhost:8080/"
    },
    "id": "UOvM2NFdl29W",
    "outputId": "9f7b84e2-4cbe-4a08-87f6-f764119ae81e"
   },
   "outputs": [
    {
     "name": "stdout",
     "output_type": "stream",
     "text": [
      "We remove the following tokens: ['When', ',', 'you', 'should', \"n't\", 'get', '!', '\\n', 'and', 'are', \"n't\", ',', 'they', \"'re\", 'just', 'part', 'of', 'the', '.', 'You', \"'ve\", 'this', '!']\n",
      "The filtered sentence contains the words: ['learning', 'data', 'science', 'discouraged', 'Challenges', 'setbacks', 'failures', 'journey', 'got']\n"
     ]
    }
   ],
   "source": [
    "# Filter stopwords, punctuation and spaces\n",
    "filtered_sent2 = []\n",
    "removed_tokens = []\n",
    "\n",
    "for word in my_doc:\n",
    "    if (word.is_stop == True) or (word.is_punct == True) or (word.is_space == True):\n",
    "        removed_tokens.append(word.text)\n",
    "    else:\n",
    "        filtered_sent2.append(word.text)\n",
    "\n",
    "print('We remove the following tokens:', removed_tokens)\n",
    "print('The filtered sentence contains the words:', filtered_sent2)"
   ]
  },
  {
   "cell_type": "markdown",
   "metadata": {
    "id": "imbw_TUkTp8v"
   },
   "source": [
    "### Lemmatization\n",
    "\n",
    "**Lemmatization** is a way of dealing with the fact that while words like connect, connection, connecting, connected, etc. are not exactly the same, they all have the same essential meaning: connect. The differences in spelling have grammatical functions in spoken language, but for machine processing, those differences can be confusing, so we need a way to change all the words that are forms of the word connect into the word connect itself.\n",
    "\n",
    "One method for doing this is called **stemming**. Stemming involves simply lopping off easily-identified prefixes and suffixes to produce what is often the simplest version of a word, the root. Connection, for example, would have the -ion suffix removed and be reduced to connect. This kind of simple stemming is often all that is needed, but lemmatization — which actually looks at words and their roots (called lemma) as described in the dictionary — is more precise (e.g feet -> foot).\n",
    "\n",
    "Let's look at this simple example."
   ]
  },
  {
   "cell_type": "code",
   "execution_count": 20,
   "metadata": {
    "colab": {
     "base_uri": "https://localhost:8080/"
    },
    "id": "UTqSImYfTp8v",
    "outputId": "3f138cd1-f8e7-44eb-f1cf-509998d3efb6"
   },
   "outputs": [
    {
     "name": "stdout",
     "output_type": "stream",
     "text": [
      "run -> run\n",
      "runs -> run\n",
      "ran -> run\n",
      "running -> run\n",
      "runner -> runner\n",
      "runners -> runner\n"
     ]
    }
   ],
   "source": [
    "# Lemmatization\n",
    "lem = sp(\"run runs ran running runner runners\")\n",
    "\n",
    "# Find lemma for each word\n",
    "for word in lem:\n",
    "    print(word.text, '->', word.lemma_)"
   ]
  },
  {
   "cell_type": "markdown",
   "metadata": {},
   "source": [
    "### Your turn! <a id = \"Your-turn-Preparation\"></a>\n",
    "\n",
    "The text below is taken from the [E4S report](https://e4s.center/resources/reports/true-cost-of-food-as-a-lever-to-transform-the-swiss-food-system/) on the *True cost of food as a lever to transform the Swiss food system*."
   ]
  },
  {
   "cell_type": "code",
   "execution_count": 21,
   "metadata": {},
   "outputs": [],
   "source": [
    "text = \"\"\"It is estimated that CHF 37.4 billion is spent every year on food in Switzerland. \n",
    "The estimated external costs are at least twice this amount, with health externalities weighing the most. \n",
    "Even if these costs are hidden from the market, they are incurred by our planet and societies, through e.g. public health costs and natural resources depletion.\n",
    "\"\"\""
   ]
  },
  {
   "cell_type": "markdown",
   "metadata": {},
   "source": [
    "- Create two lists:\n",
    "    - the first one containing the punctuation and the stopwords,\n",
    "    - the second one containing the words (tokens)."
   ]
  },
  {
   "cell_type": "code",
   "execution_count": 22,
   "metadata": {},
   "outputs": [
    {
     "name": "stdout",
     "output_type": "stream",
     "text": [
      "List containing punctuation and stopwords: ['It', 'is', 'that', 'is', 'every', 'on', 'in', '.', '\\n', 'The', 'are', 'at', 'least', 'this', 'amount', ',', 'with', 'the', 'most', '.', '\\n', 'Even', 'if', 'these', 'are', 'from', 'the', ',', 'they', 'are', 'by', 'our', 'and', ',', 'through', 'and', '.', '\\n']\n",
      "List containing thw words: ['estimated', 'CHF', '37.4', 'billion', 'spent', 'year', 'food', 'Switzerland', 'estimated', 'external', 'costs', 'twice', 'health', 'externalities', 'weighing', 'costs', 'hidden', 'market', 'incurred', 'planet', 'societies', 'e.g.', 'public', 'health', 'costs', 'natural', 'resources', 'depletion']\n"
     ]
    }
   ],
   "source": [
    "# spaCy object \n",
    "my_doc = sp(text)\n",
    "\n",
    "# Filter stopwords, punctuation\n",
    "punct_stopwords = []\n",
    "tokens = []\n",
    "\n",
    "for word in my_doc:\n",
    "    if (word.is_stop == True) or (word.is_punct == True) or (word.is_space == True):\n",
    "        punct_stopwords.append(word.text)\n",
    "    else:\n",
    "        tokens.append(word.text)\n",
    "\n",
    "print(\"List containing punctuation and stopwords:\", punct_stopwords)\n",
    "print(\"List containing thw words:\", tokens)"
   ]
  },
  {
   "cell_type": "markdown",
   "metadata": {},
   "source": [
    "- For each token, print its lemma\n",
    "\n",
    "*Note:* You can convert a list of strings into a string using for instance the `join()` method"
   ]
  },
  {
   "cell_type": "code",
   "execution_count": 27,
   "metadata": {},
   "outputs": [
    {
     "name": "stdout",
     "output_type": "stream",
     "text": [
      "estimated -> estimate\n",
      "CHF -> CHF\n",
      "37.4 -> 37.4\n",
      "billion -> billion\n",
      "spent -> spend\n",
      "year -> year\n",
      "food -> food\n",
      "Switzerland -> Switzerland\n",
      "estimated -> estimate\n",
      "external -> external\n",
      "costs -> cost\n",
      "twice -> twice\n",
      "health -> health\n",
      "externalities -> externality\n",
      "weighing -> weigh\n",
      "costs -> cost\n",
      "hidden -> hidden\n",
      "market -> market\n",
      "incurred -> incur\n",
      "planet -> planet\n",
      "societies -> society\n",
      "e.g. -> e.g.\n",
      "public -> public\n",
      "health -> health\n",
      "costs -> cost\n",
      "natural -> natural\n",
      "resources -> resource\n",
      "depletion -> depletion\n"
     ]
    }
   ],
   "source": [
    "string_tokens = sp(\" \".join(tokens))\n",
    "\n",
    "# Find lemma for each word\n",
    "for word in string_tokens:\n",
    "    print(word.text, '->', word.lemma_)"
   ]
  },
  {
   "cell_type": "markdown",
   "metadata": {},
   "source": [
    "## Text structure"
   ]
  },
  {
   "cell_type": "markdown",
   "metadata": {
    "id": "te403rkXbGKf"
   },
   "source": [
    "### Dependency Parsing\n",
    "\n",
    "**Dependency parsing** is a language processing technique that allows to better determine the meaning of a sentence by analyzing how it is constructed to determine how the individual words relate to each other.\n",
    "\n",
    "Consider, for example, the sentence “Florence throws the ball.” We have two nouns (Florence and ball) and one verb (throws). But we cannot just look at these words individually, or we may end up thinking that the ball throws Florence! To understand the sentence correctly, we need to look at the word order and sentence structure, not just the words.\n",
    "\n",
    "Below, we have a short sentence. We’ll use a spaCy method called `noun_chunks` ([Documentation](https://spacy.io/usage/linguistic-features#dependency-parse)), which breaks the input down into nouns and the words describing them, and iterate through each chunk in our source text, identifying the word, its root, its dependency identification, and which chunk it belongs to."
   ]
  },
  {
   "cell_type": "code",
   "execution_count": 28,
   "metadata": {
    "colab": {
     "base_uri": "https://localhost:8080/"
    },
    "id": "YFLButK_bOor",
    "outputId": "b49f7fdc-8790-48fa-ed07-ff780dc20992"
   },
   "outputs": [
    {
     "name": "stdout",
     "output_type": "stream",
     "text": [
      "Florence - Florence - nsubj - threw\n",
      "a ball - ball - dobj - threw\n",
      "her friend - friend - conj - threw\n",
      "Edoardo - Edoardo - appos - friend\n",
      "pursuit - pursuit - pobj - in\n",
      "the ball - ball - pobj - of\n",
      "a wall - wall - dobj - hit\n"
     ]
    }
   ],
   "source": [
    "doc = sp(\"Florence threw a ball, and her friend Edoardo, in pursuit of the ball, hit a wall.\")\n",
    "\n",
    "for chunk in doc.noun_chunks:\n",
    "    print(chunk.text, '-' , chunk.root.text, '-', chunk.root.dep_, '-', chunk.root.head.text)"
   ]
  },
  {
   "cell_type": "markdown",
   "metadata": {},
   "source": [
    "Let's visualize this to better understand how our sentence is structured. We use a spaCy visualizer ([Documentation](https://spacy.io/usage/visualizers)):"
   ]
  },
  {
   "cell_type": "code",
   "execution_count": 29,
   "metadata": {
    "colab": {
     "base_uri": "https://localhost:8080/",
     "height": 419
    },
    "id": "7VmqTQQ9bYTl",
    "outputId": "0aa614eb-1543-49ec-dbb1-5761a7455ec1"
   },
   "outputs": [
    {
     "data": {
      "text/html": [
       "<span class=\"tex2jax_ignore\"><svg xmlns=\"http://www.w3.org/2000/svg\" xmlns:xlink=\"http://www.w3.org/1999/xlink\" xml:lang=\"en\" id=\"943a961a7ebb4c32b226c7bbdce0921a-0\" class=\"displacy\" width=\"1650\" height=\"437.0\" direction=\"ltr\" style=\"max-width: none; height: 437.0px; color: #000000; background: #ffffff; font-family: Arial; direction: ltr\">\n",
       "<text class=\"displacy-token\" fill=\"currentColor\" text-anchor=\"middle\" y=\"347.0\">\n",
       "    <tspan class=\"displacy-word\" fill=\"currentColor\" x=\"50\">Florence</tspan>\n",
       "    <tspan class=\"displacy-tag\" dy=\"2em\" fill=\"currentColor\" x=\"50\">NOUN</tspan>\n",
       "</text>\n",
       "\n",
       "<text class=\"displacy-token\" fill=\"currentColor\" text-anchor=\"middle\" y=\"347.0\">\n",
       "    <tspan class=\"displacy-word\" fill=\"currentColor\" x=\"150\">threw</tspan>\n",
       "    <tspan class=\"displacy-tag\" dy=\"2em\" fill=\"currentColor\" x=\"150\">VERB</tspan>\n",
       "</text>\n",
       "\n",
       "<text class=\"displacy-token\" fill=\"currentColor\" text-anchor=\"middle\" y=\"347.0\">\n",
       "    <tspan class=\"displacy-word\" fill=\"currentColor\" x=\"250\">a</tspan>\n",
       "    <tspan class=\"displacy-tag\" dy=\"2em\" fill=\"currentColor\" x=\"250\">DET</tspan>\n",
       "</text>\n",
       "\n",
       "<text class=\"displacy-token\" fill=\"currentColor\" text-anchor=\"middle\" y=\"347.0\">\n",
       "    <tspan class=\"displacy-word\" fill=\"currentColor\" x=\"350\">ball,</tspan>\n",
       "    <tspan class=\"displacy-tag\" dy=\"2em\" fill=\"currentColor\" x=\"350\">NOUN</tspan>\n",
       "</text>\n",
       "\n",
       "<text class=\"displacy-token\" fill=\"currentColor\" text-anchor=\"middle\" y=\"347.0\">\n",
       "    <tspan class=\"displacy-word\" fill=\"currentColor\" x=\"450\">and</tspan>\n",
       "    <tspan class=\"displacy-tag\" dy=\"2em\" fill=\"currentColor\" x=\"450\">CCONJ</tspan>\n",
       "</text>\n",
       "\n",
       "<text class=\"displacy-token\" fill=\"currentColor\" text-anchor=\"middle\" y=\"347.0\">\n",
       "    <tspan class=\"displacy-word\" fill=\"currentColor\" x=\"550\">her</tspan>\n",
       "    <tspan class=\"displacy-tag\" dy=\"2em\" fill=\"currentColor\" x=\"550\">PRON</tspan>\n",
       "</text>\n",
       "\n",
       "<text class=\"displacy-token\" fill=\"currentColor\" text-anchor=\"middle\" y=\"347.0\">\n",
       "    <tspan class=\"displacy-word\" fill=\"currentColor\" x=\"650\">friend</tspan>\n",
       "    <tspan class=\"displacy-tag\" dy=\"2em\" fill=\"currentColor\" x=\"650\">NOUN</tspan>\n",
       "</text>\n",
       "\n",
       "<text class=\"displacy-token\" fill=\"currentColor\" text-anchor=\"middle\" y=\"347.0\">\n",
       "    <tspan class=\"displacy-word\" fill=\"currentColor\" x=\"750\">Edoardo,</tspan>\n",
       "    <tspan class=\"displacy-tag\" dy=\"2em\" fill=\"currentColor\" x=\"750\">PROPN</tspan>\n",
       "</text>\n",
       "\n",
       "<text class=\"displacy-token\" fill=\"currentColor\" text-anchor=\"middle\" y=\"347.0\">\n",
       "    <tspan class=\"displacy-word\" fill=\"currentColor\" x=\"850\">in</tspan>\n",
       "    <tspan class=\"displacy-tag\" dy=\"2em\" fill=\"currentColor\" x=\"850\">ADP</tspan>\n",
       "</text>\n",
       "\n",
       "<text class=\"displacy-token\" fill=\"currentColor\" text-anchor=\"middle\" y=\"347.0\">\n",
       "    <tspan class=\"displacy-word\" fill=\"currentColor\" x=\"950\">pursuit</tspan>\n",
       "    <tspan class=\"displacy-tag\" dy=\"2em\" fill=\"currentColor\" x=\"950\">NOUN</tspan>\n",
       "</text>\n",
       "\n",
       "<text class=\"displacy-token\" fill=\"currentColor\" text-anchor=\"middle\" y=\"347.0\">\n",
       "    <tspan class=\"displacy-word\" fill=\"currentColor\" x=\"1050\">of</tspan>\n",
       "    <tspan class=\"displacy-tag\" dy=\"2em\" fill=\"currentColor\" x=\"1050\">ADP</tspan>\n",
       "</text>\n",
       "\n",
       "<text class=\"displacy-token\" fill=\"currentColor\" text-anchor=\"middle\" y=\"347.0\">\n",
       "    <tspan class=\"displacy-word\" fill=\"currentColor\" x=\"1150\">the</tspan>\n",
       "    <tspan class=\"displacy-tag\" dy=\"2em\" fill=\"currentColor\" x=\"1150\">DET</tspan>\n",
       "</text>\n",
       "\n",
       "<text class=\"displacy-token\" fill=\"currentColor\" text-anchor=\"middle\" y=\"347.0\">\n",
       "    <tspan class=\"displacy-word\" fill=\"currentColor\" x=\"1250\">ball,</tspan>\n",
       "    <tspan class=\"displacy-tag\" dy=\"2em\" fill=\"currentColor\" x=\"1250\">NOUN</tspan>\n",
       "</text>\n",
       "\n",
       "<text class=\"displacy-token\" fill=\"currentColor\" text-anchor=\"middle\" y=\"347.0\">\n",
       "    <tspan class=\"displacy-word\" fill=\"currentColor\" x=\"1350\">hit</tspan>\n",
       "    <tspan class=\"displacy-tag\" dy=\"2em\" fill=\"currentColor\" x=\"1350\">VERB</tspan>\n",
       "</text>\n",
       "\n",
       "<text class=\"displacy-token\" fill=\"currentColor\" text-anchor=\"middle\" y=\"347.0\">\n",
       "    <tspan class=\"displacy-word\" fill=\"currentColor\" x=\"1450\">a</tspan>\n",
       "    <tspan class=\"displacy-tag\" dy=\"2em\" fill=\"currentColor\" x=\"1450\">DET</tspan>\n",
       "</text>\n",
       "\n",
       "<text class=\"displacy-token\" fill=\"currentColor\" text-anchor=\"middle\" y=\"347.0\">\n",
       "    <tspan class=\"displacy-word\" fill=\"currentColor\" x=\"1550\">wall.</tspan>\n",
       "    <tspan class=\"displacy-tag\" dy=\"2em\" fill=\"currentColor\" x=\"1550\">NOUN</tspan>\n",
       "</text>\n",
       "\n",
       "<g class=\"displacy-arrow\">\n",
       "    <path class=\"displacy-arc\" id=\"arrow-943a961a7ebb4c32b226c7bbdce0921a-0-0\" stroke-width=\"2px\" d=\"M70,302.0 C70,252.0 125.0,252.0 125.0,302.0\" fill=\"none\" stroke=\"currentColor\"/>\n",
       "    <text dy=\"1.25em\" style=\"font-size: 0.8em; letter-spacing: 1px\">\n",
       "        <textPath xlink:href=\"#arrow-943a961a7ebb4c32b226c7bbdce0921a-0-0\" class=\"displacy-label\" startOffset=\"50%\" side=\"left\" fill=\"currentColor\" text-anchor=\"middle\">nsubj</textPath>\n",
       "    </text>\n",
       "    <path class=\"displacy-arrowhead\" d=\"M70,304.0 L62,292.0 78,292.0\" fill=\"currentColor\"/>\n",
       "</g>\n",
       "\n",
       "<g class=\"displacy-arrow\">\n",
       "    <path class=\"displacy-arc\" id=\"arrow-943a961a7ebb4c32b226c7bbdce0921a-0-1\" stroke-width=\"2px\" d=\"M270,302.0 C270,252.0 325.0,252.0 325.0,302.0\" fill=\"none\" stroke=\"currentColor\"/>\n",
       "    <text dy=\"1.25em\" style=\"font-size: 0.8em; letter-spacing: 1px\">\n",
       "        <textPath xlink:href=\"#arrow-943a961a7ebb4c32b226c7bbdce0921a-0-1\" class=\"displacy-label\" startOffset=\"50%\" side=\"left\" fill=\"currentColor\" text-anchor=\"middle\">det</textPath>\n",
       "    </text>\n",
       "    <path class=\"displacy-arrowhead\" d=\"M270,304.0 L262,292.0 278,292.0\" fill=\"currentColor\"/>\n",
       "</g>\n",
       "\n",
       "<g class=\"displacy-arrow\">\n",
       "    <path class=\"displacy-arc\" id=\"arrow-943a961a7ebb4c32b226c7bbdce0921a-0-2\" stroke-width=\"2px\" d=\"M170,302.0 C170,202.0 330.0,202.0 330.0,302.0\" fill=\"none\" stroke=\"currentColor\"/>\n",
       "    <text dy=\"1.25em\" style=\"font-size: 0.8em; letter-spacing: 1px\">\n",
       "        <textPath xlink:href=\"#arrow-943a961a7ebb4c32b226c7bbdce0921a-0-2\" class=\"displacy-label\" startOffset=\"50%\" side=\"left\" fill=\"currentColor\" text-anchor=\"middle\">dobj</textPath>\n",
       "    </text>\n",
       "    <path class=\"displacy-arrowhead\" d=\"M330.0,304.0 L338.0,292.0 322.0,292.0\" fill=\"currentColor\"/>\n",
       "</g>\n",
       "\n",
       "<g class=\"displacy-arrow\">\n",
       "    <path class=\"displacy-arc\" id=\"arrow-943a961a7ebb4c32b226c7bbdce0921a-0-3\" stroke-width=\"2px\" d=\"M170,302.0 C170,152.0 435.0,152.0 435.0,302.0\" fill=\"none\" stroke=\"currentColor\"/>\n",
       "    <text dy=\"1.25em\" style=\"font-size: 0.8em; letter-spacing: 1px\">\n",
       "        <textPath xlink:href=\"#arrow-943a961a7ebb4c32b226c7bbdce0921a-0-3\" class=\"displacy-label\" startOffset=\"50%\" side=\"left\" fill=\"currentColor\" text-anchor=\"middle\">cc</textPath>\n",
       "    </text>\n",
       "    <path class=\"displacy-arrowhead\" d=\"M435.0,304.0 L443.0,292.0 427.0,292.0\" fill=\"currentColor\"/>\n",
       "</g>\n",
       "\n",
       "<g class=\"displacy-arrow\">\n",
       "    <path class=\"displacy-arc\" id=\"arrow-943a961a7ebb4c32b226c7bbdce0921a-0-4\" stroke-width=\"2px\" d=\"M570,302.0 C570,252.0 625.0,252.0 625.0,302.0\" fill=\"none\" stroke=\"currentColor\"/>\n",
       "    <text dy=\"1.25em\" style=\"font-size: 0.8em; letter-spacing: 1px\">\n",
       "        <textPath xlink:href=\"#arrow-943a961a7ebb4c32b226c7bbdce0921a-0-4\" class=\"displacy-label\" startOffset=\"50%\" side=\"left\" fill=\"currentColor\" text-anchor=\"middle\">poss</textPath>\n",
       "    </text>\n",
       "    <path class=\"displacy-arrowhead\" d=\"M570,304.0 L562,292.0 578,292.0\" fill=\"currentColor\"/>\n",
       "</g>\n",
       "\n",
       "<g class=\"displacy-arrow\">\n",
       "    <path class=\"displacy-arc\" id=\"arrow-943a961a7ebb4c32b226c7bbdce0921a-0-5\" stroke-width=\"2px\" d=\"M170,302.0 C170,102.0 640.0,102.0 640.0,302.0\" fill=\"none\" stroke=\"currentColor\"/>\n",
       "    <text dy=\"1.25em\" style=\"font-size: 0.8em; letter-spacing: 1px\">\n",
       "        <textPath xlink:href=\"#arrow-943a961a7ebb4c32b226c7bbdce0921a-0-5\" class=\"displacy-label\" startOffset=\"50%\" side=\"left\" fill=\"currentColor\" text-anchor=\"middle\">conj</textPath>\n",
       "    </text>\n",
       "    <path class=\"displacy-arrowhead\" d=\"M640.0,304.0 L648.0,292.0 632.0,292.0\" fill=\"currentColor\"/>\n",
       "</g>\n",
       "\n",
       "<g class=\"displacy-arrow\">\n",
       "    <path class=\"displacy-arc\" id=\"arrow-943a961a7ebb4c32b226c7bbdce0921a-0-6\" stroke-width=\"2px\" d=\"M670,302.0 C670,252.0 725.0,252.0 725.0,302.0\" fill=\"none\" stroke=\"currentColor\"/>\n",
       "    <text dy=\"1.25em\" style=\"font-size: 0.8em; letter-spacing: 1px\">\n",
       "        <textPath xlink:href=\"#arrow-943a961a7ebb4c32b226c7bbdce0921a-0-6\" class=\"displacy-label\" startOffset=\"50%\" side=\"left\" fill=\"currentColor\" text-anchor=\"middle\">appos</textPath>\n",
       "    </text>\n",
       "    <path class=\"displacy-arrowhead\" d=\"M725.0,304.0 L733.0,292.0 717.0,292.0\" fill=\"currentColor\"/>\n",
       "</g>\n",
       "\n",
       "<g class=\"displacy-arrow\">\n",
       "    <path class=\"displacy-arc\" id=\"arrow-943a961a7ebb4c32b226c7bbdce0921a-0-7\" stroke-width=\"2px\" d=\"M170,302.0 C170,52.0 845.0,52.0 845.0,302.0\" fill=\"none\" stroke=\"currentColor\"/>\n",
       "    <text dy=\"1.25em\" style=\"font-size: 0.8em; letter-spacing: 1px\">\n",
       "        <textPath xlink:href=\"#arrow-943a961a7ebb4c32b226c7bbdce0921a-0-7\" class=\"displacy-label\" startOffset=\"50%\" side=\"left\" fill=\"currentColor\" text-anchor=\"middle\">prep</textPath>\n",
       "    </text>\n",
       "    <path class=\"displacy-arrowhead\" d=\"M845.0,304.0 L853.0,292.0 837.0,292.0\" fill=\"currentColor\"/>\n",
       "</g>\n",
       "\n",
       "<g class=\"displacy-arrow\">\n",
       "    <path class=\"displacy-arc\" id=\"arrow-943a961a7ebb4c32b226c7bbdce0921a-0-8\" stroke-width=\"2px\" d=\"M870,302.0 C870,252.0 925.0,252.0 925.0,302.0\" fill=\"none\" stroke=\"currentColor\"/>\n",
       "    <text dy=\"1.25em\" style=\"font-size: 0.8em; letter-spacing: 1px\">\n",
       "        <textPath xlink:href=\"#arrow-943a961a7ebb4c32b226c7bbdce0921a-0-8\" class=\"displacy-label\" startOffset=\"50%\" side=\"left\" fill=\"currentColor\" text-anchor=\"middle\">pobj</textPath>\n",
       "    </text>\n",
       "    <path class=\"displacy-arrowhead\" d=\"M925.0,304.0 L933.0,292.0 917.0,292.0\" fill=\"currentColor\"/>\n",
       "</g>\n",
       "\n",
       "<g class=\"displacy-arrow\">\n",
       "    <path class=\"displacy-arc\" id=\"arrow-943a961a7ebb4c32b226c7bbdce0921a-0-9\" stroke-width=\"2px\" d=\"M970,302.0 C970,252.0 1025.0,252.0 1025.0,302.0\" fill=\"none\" stroke=\"currentColor\"/>\n",
       "    <text dy=\"1.25em\" style=\"font-size: 0.8em; letter-spacing: 1px\">\n",
       "        <textPath xlink:href=\"#arrow-943a961a7ebb4c32b226c7bbdce0921a-0-9\" class=\"displacy-label\" startOffset=\"50%\" side=\"left\" fill=\"currentColor\" text-anchor=\"middle\">prep</textPath>\n",
       "    </text>\n",
       "    <path class=\"displacy-arrowhead\" d=\"M1025.0,304.0 L1033.0,292.0 1017.0,292.0\" fill=\"currentColor\"/>\n",
       "</g>\n",
       "\n",
       "<g class=\"displacy-arrow\">\n",
       "    <path class=\"displacy-arc\" id=\"arrow-943a961a7ebb4c32b226c7bbdce0921a-0-10\" stroke-width=\"2px\" d=\"M1170,302.0 C1170,252.0 1225.0,252.0 1225.0,302.0\" fill=\"none\" stroke=\"currentColor\"/>\n",
       "    <text dy=\"1.25em\" style=\"font-size: 0.8em; letter-spacing: 1px\">\n",
       "        <textPath xlink:href=\"#arrow-943a961a7ebb4c32b226c7bbdce0921a-0-10\" class=\"displacy-label\" startOffset=\"50%\" side=\"left\" fill=\"currentColor\" text-anchor=\"middle\">det</textPath>\n",
       "    </text>\n",
       "    <path class=\"displacy-arrowhead\" d=\"M1170,304.0 L1162,292.0 1178,292.0\" fill=\"currentColor\"/>\n",
       "</g>\n",
       "\n",
       "<g class=\"displacy-arrow\">\n",
       "    <path class=\"displacy-arc\" id=\"arrow-943a961a7ebb4c32b226c7bbdce0921a-0-11\" stroke-width=\"2px\" d=\"M1070,302.0 C1070,202.0 1230.0,202.0 1230.0,302.0\" fill=\"none\" stroke=\"currentColor\"/>\n",
       "    <text dy=\"1.25em\" style=\"font-size: 0.8em; letter-spacing: 1px\">\n",
       "        <textPath xlink:href=\"#arrow-943a961a7ebb4c32b226c7bbdce0921a-0-11\" class=\"displacy-label\" startOffset=\"50%\" side=\"left\" fill=\"currentColor\" text-anchor=\"middle\">pobj</textPath>\n",
       "    </text>\n",
       "    <path class=\"displacy-arrowhead\" d=\"M1230.0,304.0 L1238.0,292.0 1222.0,292.0\" fill=\"currentColor\"/>\n",
       "</g>\n",
       "\n",
       "<g class=\"displacy-arrow\">\n",
       "    <path class=\"displacy-arc\" id=\"arrow-943a961a7ebb4c32b226c7bbdce0921a-0-12\" stroke-width=\"2px\" d=\"M170,302.0 C170,2.0 1350.0,2.0 1350.0,302.0\" fill=\"none\" stroke=\"currentColor\"/>\n",
       "    <text dy=\"1.25em\" style=\"font-size: 0.8em; letter-spacing: 1px\">\n",
       "        <textPath xlink:href=\"#arrow-943a961a7ebb4c32b226c7bbdce0921a-0-12\" class=\"displacy-label\" startOffset=\"50%\" side=\"left\" fill=\"currentColor\" text-anchor=\"middle\">conj</textPath>\n",
       "    </text>\n",
       "    <path class=\"displacy-arrowhead\" d=\"M1350.0,304.0 L1358.0,292.0 1342.0,292.0\" fill=\"currentColor\"/>\n",
       "</g>\n",
       "\n",
       "<g class=\"displacy-arrow\">\n",
       "    <path class=\"displacy-arc\" id=\"arrow-943a961a7ebb4c32b226c7bbdce0921a-0-13\" stroke-width=\"2px\" d=\"M1470,302.0 C1470,252.0 1525.0,252.0 1525.0,302.0\" fill=\"none\" stroke=\"currentColor\"/>\n",
       "    <text dy=\"1.25em\" style=\"font-size: 0.8em; letter-spacing: 1px\">\n",
       "        <textPath xlink:href=\"#arrow-943a961a7ebb4c32b226c7bbdce0921a-0-13\" class=\"displacy-label\" startOffset=\"50%\" side=\"left\" fill=\"currentColor\" text-anchor=\"middle\">det</textPath>\n",
       "    </text>\n",
       "    <path class=\"displacy-arrowhead\" d=\"M1470,304.0 L1462,292.0 1478,292.0\" fill=\"currentColor\"/>\n",
       "</g>\n",
       "\n",
       "<g class=\"displacy-arrow\">\n",
       "    <path class=\"displacy-arc\" id=\"arrow-943a961a7ebb4c32b226c7bbdce0921a-0-14\" stroke-width=\"2px\" d=\"M1370,302.0 C1370,202.0 1530.0,202.0 1530.0,302.0\" fill=\"none\" stroke=\"currentColor\"/>\n",
       "    <text dy=\"1.25em\" style=\"font-size: 0.8em; letter-spacing: 1px\">\n",
       "        <textPath xlink:href=\"#arrow-943a961a7ebb4c32b226c7bbdce0921a-0-14\" class=\"displacy-label\" startOffset=\"50%\" side=\"left\" fill=\"currentColor\" text-anchor=\"middle\">dobj</textPath>\n",
       "    </text>\n",
       "    <path class=\"displacy-arrowhead\" d=\"M1530.0,304.0 L1538.0,292.0 1522.0,292.0\" fill=\"currentColor\"/>\n",
       "</g>\n",
       "</svg></span>"
      ],
      "text/plain": [
       "<IPython.core.display.HTML object>"
      ]
     },
     "metadata": {},
     "output_type": "display_data"
    }
   ],
   "source": [
    "# Visualization\n",
    "displacy.render(doc, style=\"dep\", jupyter= True, options={'distance': 100})"
   ]
  },
  {
   "cell_type": "markdown",
   "metadata": {},
   "source": [
    "Since most of the tags are pretty abstract (and they vary between languages), you can use `spacy.explain` to get a short description of that the tag stands for:"
   ]
  },
  {
   "cell_type": "code",
   "execution_count": 30,
   "metadata": {},
   "outputs": [
    {
     "data": {
      "application/vnd.jupyter.widget-view+json": {
       "model_id": "e8a2bf05d42242a5adce80783dcaed4f",
       "version_major": 2,
       "version_minor": 0
      },
      "text/plain": [
       "interactive(children=(Dropdown(description='dep', options=('nsubj', 'dobj', 'det', 'cc', 'conj', 'poss', 'appo…"
      ]
     },
     "metadata": {},
     "output_type": "display_data"
    }
   ],
   "source": [
    "tags = ['nsubj', 'dobj', 'det', 'cc', 'conj', 'poss', 'appos', 'prep', 'pobj',\n",
    "       'PROPN', 'VERB', 'DET', 'NOUN', 'CCONJ', 'ADP']\n",
    "\n",
    "@interact\n",
    "def spacy_explain(dep = tags):\n",
    "    return spacy.explain(dep)"
   ]
  },
  {
   "cell_type": "markdown",
   "metadata": {
    "id": "c7J5Na4DTp84"
   },
   "source": [
    "### Entity Detection\n",
    "\n",
    "Entity detection, also called entity recognition, is a more advanced form of language processing that identifies important elements like places, people, organizations, and languages within a text. This is really helpful for quickly extracting information from the text, since you can quickly pick out important topics or identify key sections of it.\n",
    "\n",
    "SpaCy, comes with a pre-trained classifier that detects important entities: location, time, people, money etc. To get the named entities from a document, you have to use the `ents` attribute. \n",
    "\n",
    "Let’s try out some entity detection using sentences about the life of [Marie Curie](https://en.wikipedia.org/wiki/Marie_Curie):"
   ]
  },
  {
   "cell_type": "code",
   "execution_count": 31,
   "metadata": {
    "colab": {
     "base_uri": "https://localhost:8080/"
    },
    "id": "nvlb9S71Tp84",
    "outputId": "713e6602-f65d-425e-801c-ee50637847fd"
   },
   "outputs": [
    {
     "data": {
      "text/plain": [
       "[(Marie Curie, 'PERSON', 380),\n",
       " (Polish, 'NORP', 381),\n",
       " (French, 'NORP', 381),\n",
       " (Warsaw, 'GPE', 384),\n",
       " (1867, 'DATE', 391),\n",
       " (France, 'GPE', 384),\n",
       " (1891, 'DATE', 391),\n",
       " (first, 'ORDINAL', 396),\n",
       " (two Nobel Prizes, 'WORK_OF_ART', 388),\n",
       " (the Royal Swedish Academy of Sciences, 'ORG', 383),\n",
       " (1903, 'DATE', 391),\n",
       " (1911, 'DATE', 391),\n",
       " (World War I, 'EVENT', 387)]"
      ]
     },
     "execution_count": 31,
     "metadata": {},
     "output_type": "execute_result"
    }
   ],
   "source": [
    "article = sp(\"\"\"Marie Curie was a Polish and naturalized-French physicist and chemist. She was born in Warsaw in 1867 and moved to France in 1891.\n",
    "She was the first person to be awarded two Nobel Prizes by the Royal Swedish Academy of Sciences: in physics in 1903 for her pioneering research on radioactivity and in chemistry in 1911 for the discovery of the elements polonium and radium.\n",
    "During World War I she developed mobile radiography units to provide X-ray services to field hospitals.\"\"\")\n",
    "\n",
    "entities = [(i, i.label_, i.label) for i in article.ents]\n",
    "entities"
   ]
  },
  {
   "cell_type": "markdown",
   "metadata": {
    "id": "W1ScYkq7Tp87"
   },
   "source": [
    "The above example how spaCy is able to identify a variety of different entity types, including specific locations (GPE), date-related words (DATE), important numbers (CARDINAL), specific individuals (PERSON), etc.\n",
    "\n",
    "Using `displaCy` we can also visualize the text, with each identified entity highlighted by a color and labeled. We’ll use `style=\"ent\"` to tell displaCy that we want to visualize entities here."
   ]
  },
  {
   "cell_type": "code",
   "execution_count": 32,
   "metadata": {
    "colab": {
     "base_uri": "https://localhost:8080/",
     "height": 227
    },
    "id": "hGDOBT6zTp88",
    "outputId": "f3056b84-afc8-4c1a-d198-8d6ad75fa4d7"
   },
   "outputs": [
    {
     "data": {
      "text/html": [
       "<span class=\"tex2jax_ignore\"><div class=\"entities\" style=\"line-height: 2.5; direction: ltr\">\n",
       "<mark class=\"entity\" style=\"background: #aa9cfc; padding: 0.45em 0.6em; margin: 0 0.25em; line-height: 1; border-radius: 0.35em;\">\n",
       "    Marie Curie\n",
       "    <span style=\"font-size: 0.8em; font-weight: bold; line-height: 1; border-radius: 0.35em; vertical-align: middle; margin-left: 0.5rem\">PERSON</span>\n",
       "</mark>\n",
       " was a \n",
       "<mark class=\"entity\" style=\"background: #c887fb; padding: 0.45em 0.6em; margin: 0 0.25em; line-height: 1; border-radius: 0.35em;\">\n",
       "    Polish\n",
       "    <span style=\"font-size: 0.8em; font-weight: bold; line-height: 1; border-radius: 0.35em; vertical-align: middle; margin-left: 0.5rem\">NORP</span>\n",
       "</mark>\n",
       " and naturalized-\n",
       "<mark class=\"entity\" style=\"background: #c887fb; padding: 0.45em 0.6em; margin: 0 0.25em; line-height: 1; border-radius: 0.35em;\">\n",
       "    French\n",
       "    <span style=\"font-size: 0.8em; font-weight: bold; line-height: 1; border-radius: 0.35em; vertical-align: middle; margin-left: 0.5rem\">NORP</span>\n",
       "</mark>\n",
       " physicist and chemist. She was born in \n",
       "<mark class=\"entity\" style=\"background: #feca74; padding: 0.45em 0.6em; margin: 0 0.25em; line-height: 1; border-radius: 0.35em;\">\n",
       "    Warsaw\n",
       "    <span style=\"font-size: 0.8em; font-weight: bold; line-height: 1; border-radius: 0.35em; vertical-align: middle; margin-left: 0.5rem\">GPE</span>\n",
       "</mark>\n",
       " in \n",
       "<mark class=\"entity\" style=\"background: #bfe1d9; padding: 0.45em 0.6em; margin: 0 0.25em; line-height: 1; border-radius: 0.35em;\">\n",
       "    1867\n",
       "    <span style=\"font-size: 0.8em; font-weight: bold; line-height: 1; border-radius: 0.35em; vertical-align: middle; margin-left: 0.5rem\">DATE</span>\n",
       "</mark>\n",
       " and moved to \n",
       "<mark class=\"entity\" style=\"background: #feca74; padding: 0.45em 0.6em; margin: 0 0.25em; line-height: 1; border-radius: 0.35em;\">\n",
       "    France\n",
       "    <span style=\"font-size: 0.8em; font-weight: bold; line-height: 1; border-radius: 0.35em; vertical-align: middle; margin-left: 0.5rem\">GPE</span>\n",
       "</mark>\n",
       " in \n",
       "<mark class=\"entity\" style=\"background: #bfe1d9; padding: 0.45em 0.6em; margin: 0 0.25em; line-height: 1; border-radius: 0.35em;\">\n",
       "    1891\n",
       "    <span style=\"font-size: 0.8em; font-weight: bold; line-height: 1; border-radius: 0.35em; vertical-align: middle; margin-left: 0.5rem\">DATE</span>\n",
       "</mark>\n",
       ".</br>She was the \n",
       "<mark class=\"entity\" style=\"background: #e4e7d2; padding: 0.45em 0.6em; margin: 0 0.25em; line-height: 1; border-radius: 0.35em;\">\n",
       "    first\n",
       "    <span style=\"font-size: 0.8em; font-weight: bold; line-height: 1; border-radius: 0.35em; vertical-align: middle; margin-left: 0.5rem\">ORDINAL</span>\n",
       "</mark>\n",
       " person to be awarded \n",
       "<mark class=\"entity\" style=\"background: #f0d0ff; padding: 0.45em 0.6em; margin: 0 0.25em; line-height: 1; border-radius: 0.35em;\">\n",
       "    two Nobel Prizes\n",
       "    <span style=\"font-size: 0.8em; font-weight: bold; line-height: 1; border-radius: 0.35em; vertical-align: middle; margin-left: 0.5rem\">WORK_OF_ART</span>\n",
       "</mark>\n",
       " by \n",
       "<mark class=\"entity\" style=\"background: #7aecec; padding: 0.45em 0.6em; margin: 0 0.25em; line-height: 1; border-radius: 0.35em;\">\n",
       "    the Royal Swedish Academy of Sciences\n",
       "    <span style=\"font-size: 0.8em; font-weight: bold; line-height: 1; border-radius: 0.35em; vertical-align: middle; margin-left: 0.5rem\">ORG</span>\n",
       "</mark>\n",
       ": in physics in \n",
       "<mark class=\"entity\" style=\"background: #bfe1d9; padding: 0.45em 0.6em; margin: 0 0.25em; line-height: 1; border-radius: 0.35em;\">\n",
       "    1903\n",
       "    <span style=\"font-size: 0.8em; font-weight: bold; line-height: 1; border-radius: 0.35em; vertical-align: middle; margin-left: 0.5rem\">DATE</span>\n",
       "</mark>\n",
       " for her pioneering research on radioactivity and in chemistry in \n",
       "<mark class=\"entity\" style=\"background: #bfe1d9; padding: 0.45em 0.6em; margin: 0 0.25em; line-height: 1; border-radius: 0.35em;\">\n",
       "    1911\n",
       "    <span style=\"font-size: 0.8em; font-weight: bold; line-height: 1; border-radius: 0.35em; vertical-align: middle; margin-left: 0.5rem\">DATE</span>\n",
       "</mark>\n",
       " for the discovery of the elements polonium and radium.</br>During \n",
       "<mark class=\"entity\" style=\"background: #ffeb80; padding: 0.45em 0.6em; margin: 0 0.25em; line-height: 1; border-radius: 0.35em;\">\n",
       "    World War I\n",
       "    <span style=\"font-size: 0.8em; font-weight: bold; line-height: 1; border-radius: 0.35em; vertical-align: middle; margin-left: 0.5rem\">EVENT</span>\n",
       "</mark>\n",
       " she developed mobile radiography units to provide X-ray services to field hospitals.</div></span>"
      ],
      "text/plain": [
       "<IPython.core.display.HTML object>"
      ]
     },
     "metadata": {},
     "output_type": "display_data"
    }
   ],
   "source": [
    "displacy.render(article, style=\"ent\", jupyter=True)"
   ]
  },
  {
   "cell_type": "markdown",
   "metadata": {
    "id": "Erd3X6Q-n1_Y"
   },
   "source": [
    "### Your turn! <a id = \"Your-turn-structure\"></a>\n",
    "\n",
    "- Display the entities in the sentences below, about the life of [Elinor Ostrom](https://en.wikipedia.org/wiki/Elinor_Ostrom):"
   ]
  },
  {
   "cell_type": "code",
   "execution_count": 35,
   "metadata": {
    "id": "zyJOSspCn7W6"
   },
   "outputs": [
    {
     "data": {
      "text/plain": [
       "[(Elinor Olstrom, 'PERSON', 380),\n",
       " (American, 'NORP', 381),\n",
       " (Los Angeles, 'GPE', 384),\n",
       " (2009, 'DATE', 391),\n",
       " (first, 'ORDINAL', 396),\n",
       " (the Nobel Memorial Prize in Economic Sciences, 'WORK_OF_ART', 388),\n",
       " (\"Governing the Commons: The Evolution of Institutions for Collective Action,\n",
       "  'WORK_OF_ART',\n",
       "  388)]"
      ]
     },
     "execution_count": 35,
     "metadata": {},
     "output_type": "execute_result"
    }
   ],
   "source": [
    "sentence = \"\"\"Elinor Olstrom was an American political scientist and political economist born in Los Angeles. In 2009, she became the first woman to receive the Nobel Memorial Prize in Economic Sciences for her analysis of economic governance, especially the commons. \n",
    "By conducting field studies, she showed that, contrary to popular beliefs on the tragedy of the commons, natural resources that are collectively used by their users are not over-exploited and destroyed in the long-term. Instead, local communities manage shared natural resources (e.g., pastures, fishing waters, and forests) by establishing rules so that resources are used in a way that is both economically and ecologically sustainable.\n",
    "Her research is described in her book \"Governing the Commons: The Evolution of Institutions for Collective Action\".\n",
    "\"\"\"\n",
    "\n",
    "sentence_transformed = sp(sentence)\n",
    "\n",
    "entities = [(i, i.label_, i.label) for i in sentence_transformed.ents]\n",
    "entities"
   ]
  },
  {
   "cell_type": "markdown",
   "metadata": {
    "id": "1QZOutDwsYij"
   },
   "source": [
    "## Text Representation\n",
    "\n",
    "The goal is to transform text into numerical features such that it can be used by ML algorithms. There are different techniques:\n",
    "- **Bag of Words (BOW)** simply treat every document as an unordered set of words. It works in many case but order is not preserved. As a solution, we can use **n-grams**, i.e., we count token pairs, triplets, etc.\n",
    "- **TF-IDF**: emphasizes important words, i.e., words that appear frequently in a document, (informing about the topic of the document), and words that are rare in a corpus of documents (setting one document apart from other similar ones).\n",
    "\n",
    "To transform our text, we are going to use our old friend, the scikit learn library. As input it will require strings (and not a spaCy object). Here, our corpus of documents will consist of four sentences on [symbiosis](https://en.wikipedia.org/wiki/Symbiosis). "
   ]
  },
  {
   "cell_type": "code",
   "execution_count": 36,
   "metadata": {
    "id": "X2MjeqoQxdOx"
   },
   "outputs": [
    {
     "data": {
      "text/plain": [
       "['Symbiosis is any type of a close and long-term biological interaction between two biological organisms of different species.',\n",
       " 'Mutualism describes the ecological interaction between two or more species where each species has a net benefit.',\n",
       " 'Commensalism is a long-term biological interaction (symbiosis) in which members of one species gain benefits while those of the other species neither benefit nor are harmed.',\n",
       " 'Parasitism is a close relationship between species, where one organism, the parasite, lives on or inside another organism, the host, causing it some harm, and is adapted structurally to this way of life.']"
      ]
     },
     "execution_count": 36,
     "metadata": {},
     "output_type": "execute_result"
    }
   ],
   "source": [
    "# Sentences (as strings, not spaCy objects)\n",
    "s1 = \"Symbiosis is any type of a close and long-term biological interaction between two biological organisms of different species.\"\n",
    "s2 = \"Mutualism describes the ecological interaction between two or more species where each species has a net benefit.\"\n",
    "s3 = \"Commensalism is a long-term biological interaction (symbiosis) in which members of one species gain benefits while those of the other species neither benefit nor are harmed.\"\n",
    "s4 = \"Parasitism is a close relationship between species, where one organism, the parasite, lives on or inside another organism, the host, causing it some harm, and is adapted structurally to this way of life.\"\n",
    "\n",
    "# List of sentences\n",
    "texts = [s1, s2, s3, s4]\n",
    "texts"
   ]
  },
  {
   "cell_type": "markdown",
   "metadata": {
    "id": "wCFQrtHLtMTt"
   },
   "source": [
    "### Bag of Words (BOW)\n",
    "\n",
    "We use the `CountVectorizer` class of sklearn ([Documentation](https://scikit-learn.org/stable/modules/generated/sklearn.feature_extraction.text.CountVectorizer.html)), using as parameters:\n",
    "- `ngram_range=(1,2)`, i.e., we consider tokens (1-grams) and pair of tokens (2-grams);\n",
    "- `stop_words=\"english\"`, a built-in stop word list for English."
   ]
  },
  {
   "cell_type": "code",
   "execution_count": 37,
   "metadata": {
    "colab": {
     "base_uri": "https://localhost:8080/"
    },
    "id": "ZyzBm0BUtLc0",
    "outputId": "231db08a-925c-440c-a642-90d03ad5921b"
   },
   "outputs": [
    {
     "name": "stdout",
     "output_type": "stream",
     "text": [
      "[[0 0 0 0 0 0 2 1 1 0 0 1 1 0 0 0 0 0 1 1 0 0 0 0 0 0 0 0 0 0 0 1 1 0 0 0\n",
      "  0 0 1 1 0 0 0 0 0 0 0 0 0 1 1 0 0 0 0 0 0 1 0 0 0 0 0 0 0 1 0 1 1 1 1 1\n",
      "  0 0]\n",
      " [0 0 1 0 0 0 0 0 0 0 0 0 0 0 0 0 1 1 0 0 1 1 0 0 0 0 0 0 0 0 0 1 0 1 0 0\n",
      "  0 0 0 0 0 0 1 1 1 1 0 0 0 0 0 0 0 0 0 0 0 2 0 0 1 0 1 0 0 0 0 0 0 0 0 0\n",
      "  0 0]\n",
      " [0 0 1 1 1 1 1 1 0 0 0 0 0 0 1 1 0 0 0 0 0 0 1 1 0 0 1 0 0 0 0 1 0 0 1 0\n",
      "  0 0 1 1 1 1 0 0 0 0 0 0 0 0 0 0 0 0 0 0 0 2 1 1 0 0 0 0 0 1 1 0 1 1 0 0\n",
      "  0 0]\n",
      " [1 1 0 0 0 0 0 0 0 1 1 1 0 1 0 0 0 0 0 0 0 0 0 0 1 1 0 1 1 1 1 0 0 0 0 1\n",
      "  1 1 0 0 0 0 0 0 0 0 2 1 1 0 0 1 1 1 1 1 1 1 0 0 0 1 0 1 1 0 0 0 0 0 0 0\n",
      "  1 1]]\n"
     ]
    }
   ],
   "source": [
    "# Using default tokenizer \n",
    "count = CountVectorizer(ngram_range=(1,2), stop_words=\"english\")\n",
    "\n",
    "# Learn the vocabulary dictionary and return document-term matrix\n",
    "bow = count.fit_transform(texts)\n",
    "\n",
    "# Show feature matrix\n",
    "print(bow.toarray())"
   ]
  },
  {
   "cell_type": "markdown",
   "metadata": {},
   "source": [
    "Let's check the n-grams (tokens and pair of tokens) created:"
   ]
  },
  {
   "cell_type": "code",
   "execution_count": 38,
   "metadata": {
    "colab": {
     "base_uri": "https://localhost:8080/"
    },
    "id": "GRmUUc0kzi3_",
    "outputId": "a3648c86-8ed3-48db-bdc7-61cac70236ea"
   },
   "outputs": [
    {
     "name": "stdout",
     "output_type": "stream",
     "text": [
      "Our n-grams are: adapted, adapted structurally, benefit, benefit harmed, benefits, benefits species, biological, biological interaction, biological organisms, causing, causing harm, close, close long, close relationship, commensalism, commensalism long, describes, describes ecological, different, different species, ecological, ecological interaction, gain, gain benefits, harm, harm adapted, harmed, host, host causing, inside, inside organism, interaction, interaction biological, interaction species, interaction symbiosis, life, lives, lives inside, long, long term, members, members species, mutualism, mutualism describes, net, net benefit, organism, organism host, organism parasite, organisms, organisms different, parasite, parasite lives, parasitism, parasitism close, relationship, relationship species, species, species benefit, species gain, species net, species organism, species species, structurally, structurally way, symbiosis, symbiosis members, symbiosis type, term, term biological, type, type close, way, way life\n"
     ]
    }
   ],
   "source": [
    "# Get feature names\n",
    "feature_names = count.get_feature_names_out()\n",
    "\n",
    "# View feature names\n",
    "print('Our n-grams are:', ', '.join(feature_names))"
   ]
  },
  {
   "cell_type": "markdown",
   "metadata": {},
   "source": [
    "We can better visualize the result in a dataframe:"
   ]
  },
  {
   "cell_type": "code",
   "execution_count": 39,
   "metadata": {
    "colab": {
     "base_uri": "https://localhost:8080/",
     "height": 254
    },
    "id": "sxCSvGUTz2tl",
    "outputId": "2b1273d6-433d-4f79-8d29-d07fc8e2d7a7"
   },
   "outputs": [
    {
     "data": {
      "text/html": [
       "<div>\n",
       "<style scoped>\n",
       "    .dataframe tbody tr th:only-of-type {\n",
       "        vertical-align: middle;\n",
       "    }\n",
       "\n",
       "    .dataframe tbody tr th {\n",
       "        vertical-align: top;\n",
       "    }\n",
       "\n",
       "    .dataframe thead th {\n",
       "        text-align: right;\n",
       "    }\n",
       "</style>\n",
       "<table border=\"1\" class=\"dataframe\">\n",
       "  <thead>\n",
       "    <tr style=\"text-align: right;\">\n",
       "      <th></th>\n",
       "      <th>adapted</th>\n",
       "      <th>adapted structurally</th>\n",
       "      <th>benefit</th>\n",
       "      <th>benefit harmed</th>\n",
       "      <th>benefits</th>\n",
       "      <th>benefits species</th>\n",
       "      <th>biological</th>\n",
       "      <th>biological interaction</th>\n",
       "      <th>biological organisms</th>\n",
       "      <th>causing</th>\n",
       "      <th>causing harm</th>\n",
       "      <th>close</th>\n",
       "      <th>close long</th>\n",
       "      <th>close relationship</th>\n",
       "      <th>commensalism</th>\n",
       "      <th>commensalism long</th>\n",
       "      <th>describes</th>\n",
       "      <th>describes ecological</th>\n",
       "      <th>different</th>\n",
       "      <th>different species</th>\n",
       "      <th>ecological</th>\n",
       "      <th>ecological interaction</th>\n",
       "      <th>gain</th>\n",
       "      <th>gain benefits</th>\n",
       "      <th>harm</th>\n",
       "      <th>harm adapted</th>\n",
       "      <th>harmed</th>\n",
       "      <th>host</th>\n",
       "      <th>host causing</th>\n",
       "      <th>inside</th>\n",
       "      <th>inside organism</th>\n",
       "      <th>interaction</th>\n",
       "      <th>interaction biological</th>\n",
       "      <th>interaction species</th>\n",
       "      <th>interaction symbiosis</th>\n",
       "      <th>life</th>\n",
       "      <th>lives</th>\n",
       "      <th>lives inside</th>\n",
       "      <th>long</th>\n",
       "      <th>long term</th>\n",
       "      <th>members</th>\n",
       "      <th>members species</th>\n",
       "      <th>mutualism</th>\n",
       "      <th>mutualism describes</th>\n",
       "      <th>net</th>\n",
       "      <th>net benefit</th>\n",
       "      <th>organism</th>\n",
       "      <th>organism host</th>\n",
       "      <th>organism parasite</th>\n",
       "      <th>organisms</th>\n",
       "      <th>organisms different</th>\n",
       "      <th>parasite</th>\n",
       "      <th>parasite lives</th>\n",
       "      <th>parasitism</th>\n",
       "      <th>parasitism close</th>\n",
       "      <th>relationship</th>\n",
       "      <th>relationship species</th>\n",
       "      <th>species</th>\n",
       "      <th>species benefit</th>\n",
       "      <th>species gain</th>\n",
       "      <th>species net</th>\n",
       "      <th>species organism</th>\n",
       "      <th>species species</th>\n",
       "      <th>structurally</th>\n",
       "      <th>structurally way</th>\n",
       "      <th>symbiosis</th>\n",
       "      <th>symbiosis members</th>\n",
       "      <th>symbiosis type</th>\n",
       "      <th>term</th>\n",
       "      <th>term biological</th>\n",
       "      <th>type</th>\n",
       "      <th>type close</th>\n",
       "      <th>way</th>\n",
       "      <th>way life</th>\n",
       "    </tr>\n",
       "  </thead>\n",
       "  <tbody>\n",
       "    <tr>\n",
       "      <th>s1</th>\n",
       "      <td>0</td>\n",
       "      <td>0</td>\n",
       "      <td>0</td>\n",
       "      <td>0</td>\n",
       "      <td>0</td>\n",
       "      <td>0</td>\n",
       "      <td>2</td>\n",
       "      <td>1</td>\n",
       "      <td>1</td>\n",
       "      <td>0</td>\n",
       "      <td>0</td>\n",
       "      <td>1</td>\n",
       "      <td>1</td>\n",
       "      <td>0</td>\n",
       "      <td>0</td>\n",
       "      <td>0</td>\n",
       "      <td>0</td>\n",
       "      <td>0</td>\n",
       "      <td>1</td>\n",
       "      <td>1</td>\n",
       "      <td>0</td>\n",
       "      <td>0</td>\n",
       "      <td>0</td>\n",
       "      <td>0</td>\n",
       "      <td>0</td>\n",
       "      <td>0</td>\n",
       "      <td>0</td>\n",
       "      <td>0</td>\n",
       "      <td>0</td>\n",
       "      <td>0</td>\n",
       "      <td>0</td>\n",
       "      <td>1</td>\n",
       "      <td>1</td>\n",
       "      <td>0</td>\n",
       "      <td>0</td>\n",
       "      <td>0</td>\n",
       "      <td>0</td>\n",
       "      <td>0</td>\n",
       "      <td>1</td>\n",
       "      <td>1</td>\n",
       "      <td>0</td>\n",
       "      <td>0</td>\n",
       "      <td>0</td>\n",
       "      <td>0</td>\n",
       "      <td>0</td>\n",
       "      <td>0</td>\n",
       "      <td>0</td>\n",
       "      <td>0</td>\n",
       "      <td>0</td>\n",
       "      <td>1</td>\n",
       "      <td>1</td>\n",
       "      <td>0</td>\n",
       "      <td>0</td>\n",
       "      <td>0</td>\n",
       "      <td>0</td>\n",
       "      <td>0</td>\n",
       "      <td>0</td>\n",
       "      <td>1</td>\n",
       "      <td>0</td>\n",
       "      <td>0</td>\n",
       "      <td>0</td>\n",
       "      <td>0</td>\n",
       "      <td>0</td>\n",
       "      <td>0</td>\n",
       "      <td>0</td>\n",
       "      <td>1</td>\n",
       "      <td>0</td>\n",
       "      <td>1</td>\n",
       "      <td>1</td>\n",
       "      <td>1</td>\n",
       "      <td>1</td>\n",
       "      <td>1</td>\n",
       "      <td>0</td>\n",
       "      <td>0</td>\n",
       "    </tr>\n",
       "    <tr>\n",
       "      <th>s2</th>\n",
       "      <td>0</td>\n",
       "      <td>0</td>\n",
       "      <td>1</td>\n",
       "      <td>0</td>\n",
       "      <td>0</td>\n",
       "      <td>0</td>\n",
       "      <td>0</td>\n",
       "      <td>0</td>\n",
       "      <td>0</td>\n",
       "      <td>0</td>\n",
       "      <td>0</td>\n",
       "      <td>0</td>\n",
       "      <td>0</td>\n",
       "      <td>0</td>\n",
       "      <td>0</td>\n",
       "      <td>0</td>\n",
       "      <td>1</td>\n",
       "      <td>1</td>\n",
       "      <td>0</td>\n",
       "      <td>0</td>\n",
       "      <td>1</td>\n",
       "      <td>1</td>\n",
       "      <td>0</td>\n",
       "      <td>0</td>\n",
       "      <td>0</td>\n",
       "      <td>0</td>\n",
       "      <td>0</td>\n",
       "      <td>0</td>\n",
       "      <td>0</td>\n",
       "      <td>0</td>\n",
       "      <td>0</td>\n",
       "      <td>1</td>\n",
       "      <td>0</td>\n",
       "      <td>1</td>\n",
       "      <td>0</td>\n",
       "      <td>0</td>\n",
       "      <td>0</td>\n",
       "      <td>0</td>\n",
       "      <td>0</td>\n",
       "      <td>0</td>\n",
       "      <td>0</td>\n",
       "      <td>0</td>\n",
       "      <td>1</td>\n",
       "      <td>1</td>\n",
       "      <td>1</td>\n",
       "      <td>1</td>\n",
       "      <td>0</td>\n",
       "      <td>0</td>\n",
       "      <td>0</td>\n",
       "      <td>0</td>\n",
       "      <td>0</td>\n",
       "      <td>0</td>\n",
       "      <td>0</td>\n",
       "      <td>0</td>\n",
       "      <td>0</td>\n",
       "      <td>0</td>\n",
       "      <td>0</td>\n",
       "      <td>2</td>\n",
       "      <td>0</td>\n",
       "      <td>0</td>\n",
       "      <td>1</td>\n",
       "      <td>0</td>\n",
       "      <td>1</td>\n",
       "      <td>0</td>\n",
       "      <td>0</td>\n",
       "      <td>0</td>\n",
       "      <td>0</td>\n",
       "      <td>0</td>\n",
       "      <td>0</td>\n",
       "      <td>0</td>\n",
       "      <td>0</td>\n",
       "      <td>0</td>\n",
       "      <td>0</td>\n",
       "      <td>0</td>\n",
       "    </tr>\n",
       "    <tr>\n",
       "      <th>s3</th>\n",
       "      <td>0</td>\n",
       "      <td>0</td>\n",
       "      <td>1</td>\n",
       "      <td>1</td>\n",
       "      <td>1</td>\n",
       "      <td>1</td>\n",
       "      <td>1</td>\n",
       "      <td>1</td>\n",
       "      <td>0</td>\n",
       "      <td>0</td>\n",
       "      <td>0</td>\n",
       "      <td>0</td>\n",
       "      <td>0</td>\n",
       "      <td>0</td>\n",
       "      <td>1</td>\n",
       "      <td>1</td>\n",
       "      <td>0</td>\n",
       "      <td>0</td>\n",
       "      <td>0</td>\n",
       "      <td>0</td>\n",
       "      <td>0</td>\n",
       "      <td>0</td>\n",
       "      <td>1</td>\n",
       "      <td>1</td>\n",
       "      <td>0</td>\n",
       "      <td>0</td>\n",
       "      <td>1</td>\n",
       "      <td>0</td>\n",
       "      <td>0</td>\n",
       "      <td>0</td>\n",
       "      <td>0</td>\n",
       "      <td>1</td>\n",
       "      <td>0</td>\n",
       "      <td>0</td>\n",
       "      <td>1</td>\n",
       "      <td>0</td>\n",
       "      <td>0</td>\n",
       "      <td>0</td>\n",
       "      <td>1</td>\n",
       "      <td>1</td>\n",
       "      <td>1</td>\n",
       "      <td>1</td>\n",
       "      <td>0</td>\n",
       "      <td>0</td>\n",
       "      <td>0</td>\n",
       "      <td>0</td>\n",
       "      <td>0</td>\n",
       "      <td>0</td>\n",
       "      <td>0</td>\n",
       "      <td>0</td>\n",
       "      <td>0</td>\n",
       "      <td>0</td>\n",
       "      <td>0</td>\n",
       "      <td>0</td>\n",
       "      <td>0</td>\n",
       "      <td>0</td>\n",
       "      <td>0</td>\n",
       "      <td>2</td>\n",
       "      <td>1</td>\n",
       "      <td>1</td>\n",
       "      <td>0</td>\n",
       "      <td>0</td>\n",
       "      <td>0</td>\n",
       "      <td>0</td>\n",
       "      <td>0</td>\n",
       "      <td>1</td>\n",
       "      <td>1</td>\n",
       "      <td>0</td>\n",
       "      <td>1</td>\n",
       "      <td>1</td>\n",
       "      <td>0</td>\n",
       "      <td>0</td>\n",
       "      <td>0</td>\n",
       "      <td>0</td>\n",
       "    </tr>\n",
       "    <tr>\n",
       "      <th>s4</th>\n",
       "      <td>1</td>\n",
       "      <td>1</td>\n",
       "      <td>0</td>\n",
       "      <td>0</td>\n",
       "      <td>0</td>\n",
       "      <td>0</td>\n",
       "      <td>0</td>\n",
       "      <td>0</td>\n",
       "      <td>0</td>\n",
       "      <td>1</td>\n",
       "      <td>1</td>\n",
       "      <td>1</td>\n",
       "      <td>0</td>\n",
       "      <td>1</td>\n",
       "      <td>0</td>\n",
       "      <td>0</td>\n",
       "      <td>0</td>\n",
       "      <td>0</td>\n",
       "      <td>0</td>\n",
       "      <td>0</td>\n",
       "      <td>0</td>\n",
       "      <td>0</td>\n",
       "      <td>0</td>\n",
       "      <td>0</td>\n",
       "      <td>1</td>\n",
       "      <td>1</td>\n",
       "      <td>0</td>\n",
       "      <td>1</td>\n",
       "      <td>1</td>\n",
       "      <td>1</td>\n",
       "      <td>1</td>\n",
       "      <td>0</td>\n",
       "      <td>0</td>\n",
       "      <td>0</td>\n",
       "      <td>0</td>\n",
       "      <td>1</td>\n",
       "      <td>1</td>\n",
       "      <td>1</td>\n",
       "      <td>0</td>\n",
       "      <td>0</td>\n",
       "      <td>0</td>\n",
       "      <td>0</td>\n",
       "      <td>0</td>\n",
       "      <td>0</td>\n",
       "      <td>0</td>\n",
       "      <td>0</td>\n",
       "      <td>2</td>\n",
       "      <td>1</td>\n",
       "      <td>1</td>\n",
       "      <td>0</td>\n",
       "      <td>0</td>\n",
       "      <td>1</td>\n",
       "      <td>1</td>\n",
       "      <td>1</td>\n",
       "      <td>1</td>\n",
       "      <td>1</td>\n",
       "      <td>1</td>\n",
       "      <td>1</td>\n",
       "      <td>0</td>\n",
       "      <td>0</td>\n",
       "      <td>0</td>\n",
       "      <td>1</td>\n",
       "      <td>0</td>\n",
       "      <td>1</td>\n",
       "      <td>1</td>\n",
       "      <td>0</td>\n",
       "      <td>0</td>\n",
       "      <td>0</td>\n",
       "      <td>0</td>\n",
       "      <td>0</td>\n",
       "      <td>0</td>\n",
       "      <td>0</td>\n",
       "      <td>1</td>\n",
       "      <td>1</td>\n",
       "    </tr>\n",
       "  </tbody>\n",
       "</table>\n",
       "</div>"
      ],
      "text/plain": [
       "    adapted  adapted structurally  benefit  benefit harmed  benefits  \\\n",
       "s1        0                     0        0               0         0   \n",
       "s2        0                     0        1               0         0   \n",
       "s3        0                     0        1               1         1   \n",
       "s4        1                     1        0               0         0   \n",
       "\n",
       "    benefits species  biological  biological interaction  \\\n",
       "s1                 0           2                       1   \n",
       "s2                 0           0                       0   \n",
       "s3                 1           1                       1   \n",
       "s4                 0           0                       0   \n",
       "\n",
       "    biological organisms  causing  causing harm  close  close long  \\\n",
       "s1                     1        0             0      1           1   \n",
       "s2                     0        0             0      0           0   \n",
       "s3                     0        0             0      0           0   \n",
       "s4                     0        1             1      1           0   \n",
       "\n",
       "    close relationship  commensalism  commensalism long  describes  \\\n",
       "s1                   0             0                  0          0   \n",
       "s2                   0             0                  0          1   \n",
       "s3                   0             1                  1          0   \n",
       "s4                   1             0                  0          0   \n",
       "\n",
       "    describes ecological  different  different species  ecological  \\\n",
       "s1                     0          1                  1           0   \n",
       "s2                     1          0                  0           1   \n",
       "s3                     0          0                  0           0   \n",
       "s4                     0          0                  0           0   \n",
       "\n",
       "    ecological interaction  gain  gain benefits  harm  harm adapted  harmed  \\\n",
       "s1                       0     0              0     0             0       0   \n",
       "s2                       1     0              0     0             0       0   \n",
       "s3                       0     1              1     0             0       1   \n",
       "s4                       0     0              0     1             1       0   \n",
       "\n",
       "    host  host causing  inside  inside organism  interaction  \\\n",
       "s1     0             0       0                0            1   \n",
       "s2     0             0       0                0            1   \n",
       "s3     0             0       0                0            1   \n",
       "s4     1             1       1                1            0   \n",
       "\n",
       "    interaction biological  interaction species  interaction symbiosis  life  \\\n",
       "s1                       1                    0                      0     0   \n",
       "s2                       0                    1                      0     0   \n",
       "s3                       0                    0                      1     0   \n",
       "s4                       0                    0                      0     1   \n",
       "\n",
       "    lives  lives inside  long  long term  members  members species  mutualism  \\\n",
       "s1      0             0     1          1        0                0          0   \n",
       "s2      0             0     0          0        0                0          1   \n",
       "s3      0             0     1          1        1                1          0   \n",
       "s4      1             1     0          0        0                0          0   \n",
       "\n",
       "    mutualism describes  net  net benefit  organism  organism host  \\\n",
       "s1                    0    0            0         0              0   \n",
       "s2                    1    1            1         0              0   \n",
       "s3                    0    0            0         0              0   \n",
       "s4                    0    0            0         2              1   \n",
       "\n",
       "    organism parasite  organisms  organisms different  parasite  \\\n",
       "s1                  0          1                    1         0   \n",
       "s2                  0          0                    0         0   \n",
       "s3                  0          0                    0         0   \n",
       "s4                  1          0                    0         1   \n",
       "\n",
       "    parasite lives  parasitism  parasitism close  relationship  \\\n",
       "s1               0           0                 0             0   \n",
       "s2               0           0                 0             0   \n",
       "s3               0           0                 0             0   \n",
       "s4               1           1                 1             1   \n",
       "\n",
       "    relationship species  species  species benefit  species gain  species net  \\\n",
       "s1                     0        1                0             0            0   \n",
       "s2                     0        2                0             0            1   \n",
       "s3                     0        2                1             1            0   \n",
       "s4                     1        1                0             0            0   \n",
       "\n",
       "    species organism  species species  structurally  structurally way  \\\n",
       "s1                 0                0             0                 0   \n",
       "s2                 0                1             0                 0   \n",
       "s3                 0                0             0                 0   \n",
       "s4                 1                0             1                 1   \n",
       "\n",
       "    symbiosis  symbiosis members  symbiosis type  term  term biological  type  \\\n",
       "s1          1                  0               1     1                1     1   \n",
       "s2          0                  0               0     0                0     0   \n",
       "s3          1                  1               0     1                1     0   \n",
       "s4          0                  0               0     0                0     0   \n",
       "\n",
       "    type close  way  way life  \n",
       "s1           1    0         0  \n",
       "s2           0    0         0  \n",
       "s3           0    0         0  \n",
       "s4           0    1         1  "
      ]
     },
     "execution_count": 39,
     "metadata": {},
     "output_type": "execute_result"
    }
   ],
   "source": [
    "# Show as a dataframe\n",
    "pd.set_option(\"display.max_columns\", None)\n",
    "pd.DataFrame(\n",
    "    bow.todense(),              # Feature matrix\n",
    "    columns=feature_names,      # n-grams\n",
    "    index= ['s1', 's2', 's3', 's4']\n",
    "    )"
   ]
  },
  {
   "cell_type": "markdown",
   "metadata": {
    "id": "v7tNGrTutQ2r"
   },
   "source": [
    "### TF-IDF Representation\n",
    "\n",
    "**TF-IDF** emphasizes important words. It is the product of term frequency (TF) and inverse document frequency (IDF):\n",
    "- **Term Frequency** identifies tokens that appear frequently in a document: TF(token, document) = number of times token appears in document / total number of tokens in document\n",
    "- **Inverse Document Frequency** identifies words that appear rarely in the corpus: IDF(token, corpus) = log( total number of documents in corpus / number of documents containing token )\n",
    "\n",
    "Note that the IDF value for a token remains the same throughout all the documents as it depends upon the total number of documents. On the other hand, TF values of a token differ from document to document.\n",
    "\n",
    "The goal of using TF-IDF instead of the raw frequencies of occurrence of a token in a given document is to scale down the impact of tokens that occur very frequently in a given corpus since those are less informative than tokens that occur in a small fraction of the corpus. \n",
    "\n",
    "Ok, let's implement TD-IDF. We are using the `TfidfVectorizer` class of sklearn ([Documentation](https://scikit-learn.org/stable/modules/generated/sklearn.feature_extraction.text.TfidfVectorizer.html#sklearn.feature_extraction.text.TfidfVectorizer)):"
   ]
  },
  {
   "cell_type": "code",
   "execution_count": 40,
   "metadata": {
    "colab": {
     "base_uri": "https://localhost:8080/",
     "height": 274
    },
    "id": "djkUI6hXtWlr",
    "outputId": "26cb28a5-eb81-40ff-ebbc-48d5a6d4a621"
   },
   "outputs": [
    {
     "data": {
      "text/html": [
       "<div>\n",
       "<style scoped>\n",
       "    .dataframe tbody tr th:only-of-type {\n",
       "        vertical-align: middle;\n",
       "    }\n",
       "\n",
       "    .dataframe tbody tr th {\n",
       "        vertical-align: top;\n",
       "    }\n",
       "\n",
       "    .dataframe thead th {\n",
       "        text-align: right;\n",
       "    }\n",
       "</style>\n",
       "<table border=\"1\" class=\"dataframe\">\n",
       "  <thead>\n",
       "    <tr style=\"text-align: right;\">\n",
       "      <th></th>\n",
       "      <th>adapted</th>\n",
       "      <th>benefit</th>\n",
       "      <th>benefits</th>\n",
       "      <th>biological</th>\n",
       "      <th>causing</th>\n",
       "      <th>close</th>\n",
       "      <th>commensalism</th>\n",
       "      <th>describes</th>\n",
       "      <th>different</th>\n",
       "      <th>ecological</th>\n",
       "      <th>gain</th>\n",
       "      <th>harm</th>\n",
       "      <th>harmed</th>\n",
       "      <th>host</th>\n",
       "      <th>inside</th>\n",
       "      <th>interaction</th>\n",
       "      <th>life</th>\n",
       "      <th>lives</th>\n",
       "      <th>long</th>\n",
       "      <th>members</th>\n",
       "      <th>mutualism</th>\n",
       "      <th>net</th>\n",
       "      <th>organism</th>\n",
       "      <th>organisms</th>\n",
       "      <th>parasite</th>\n",
       "      <th>parasitism</th>\n",
       "      <th>relationship</th>\n",
       "      <th>species</th>\n",
       "      <th>structurally</th>\n",
       "      <th>symbiosis</th>\n",
       "      <th>term</th>\n",
       "      <th>type</th>\n",
       "      <th>way</th>\n",
       "    </tr>\n",
       "  </thead>\n",
       "  <tbody>\n",
       "    <tr>\n",
       "      <th>s1</th>\n",
       "      <td>0.000000</td>\n",
       "      <td>0.000000</td>\n",
       "      <td>0.000000</td>\n",
       "      <td>0.536059</td>\n",
       "      <td>0.000000</td>\n",
       "      <td>0.268030</td>\n",
       "      <td>0.000000</td>\n",
       "      <td>0.000000</td>\n",
       "      <td>0.339962</td>\n",
       "      <td>0.000000</td>\n",
       "      <td>0.000000</td>\n",
       "      <td>0.000000</td>\n",
       "      <td>0.000000</td>\n",
       "      <td>0.000000</td>\n",
       "      <td>0.000000</td>\n",
       "      <td>0.216993</td>\n",
       "      <td>0.000000</td>\n",
       "      <td>0.000000</td>\n",
       "      <td>0.268030</td>\n",
       "      <td>0.000000</td>\n",
       "      <td>0.000000</td>\n",
       "      <td>0.000000</td>\n",
       "      <td>0.000000</td>\n",
       "      <td>0.339962</td>\n",
       "      <td>0.000000</td>\n",
       "      <td>0.000000</td>\n",
       "      <td>0.000000</td>\n",
       "      <td>0.177406</td>\n",
       "      <td>0.000000</td>\n",
       "      <td>0.268030</td>\n",
       "      <td>0.268030</td>\n",
       "      <td>0.339962</td>\n",
       "      <td>0.000000</td>\n",
       "    </tr>\n",
       "    <tr>\n",
       "      <th>s2</th>\n",
       "      <td>0.000000</td>\n",
       "      <td>0.318741</td>\n",
       "      <td>0.000000</td>\n",
       "      <td>0.000000</td>\n",
       "      <td>0.000000</td>\n",
       "      <td>0.000000</td>\n",
       "      <td>0.000000</td>\n",
       "      <td>0.404283</td>\n",
       "      <td>0.000000</td>\n",
       "      <td>0.404283</td>\n",
       "      <td>0.000000</td>\n",
       "      <td>0.000000</td>\n",
       "      <td>0.000000</td>\n",
       "      <td>0.000000</td>\n",
       "      <td>0.000000</td>\n",
       "      <td>0.258049</td>\n",
       "      <td>0.000000</td>\n",
       "      <td>0.000000</td>\n",
       "      <td>0.000000</td>\n",
       "      <td>0.000000</td>\n",
       "      <td>0.404283</td>\n",
       "      <td>0.404283</td>\n",
       "      <td>0.000000</td>\n",
       "      <td>0.000000</td>\n",
       "      <td>0.000000</td>\n",
       "      <td>0.000000</td>\n",
       "      <td>0.000000</td>\n",
       "      <td>0.421943</td>\n",
       "      <td>0.000000</td>\n",
       "      <td>0.000000</td>\n",
       "      <td>0.000000</td>\n",
       "      <td>0.000000</td>\n",
       "      <td>0.000000</td>\n",
       "    </tr>\n",
       "    <tr>\n",
       "      <th>s3</th>\n",
       "      <td>0.000000</td>\n",
       "      <td>0.254397</td>\n",
       "      <td>0.322671</td>\n",
       "      <td>0.254397</td>\n",
       "      <td>0.000000</td>\n",
       "      <td>0.000000</td>\n",
       "      <td>0.322671</td>\n",
       "      <td>0.000000</td>\n",
       "      <td>0.000000</td>\n",
       "      <td>0.000000</td>\n",
       "      <td>0.322671</td>\n",
       "      <td>0.000000</td>\n",
       "      <td>0.322671</td>\n",
       "      <td>0.000000</td>\n",
       "      <td>0.000000</td>\n",
       "      <td>0.205956</td>\n",
       "      <td>0.000000</td>\n",
       "      <td>0.000000</td>\n",
       "      <td>0.254397</td>\n",
       "      <td>0.322671</td>\n",
       "      <td>0.000000</td>\n",
       "      <td>0.000000</td>\n",
       "      <td>0.000000</td>\n",
       "      <td>0.000000</td>\n",
       "      <td>0.000000</td>\n",
       "      <td>0.000000</td>\n",
       "      <td>0.000000</td>\n",
       "      <td>0.336766</td>\n",
       "      <td>0.000000</td>\n",
       "      <td>0.254397</td>\n",
       "      <td>0.254397</td>\n",
       "      <td>0.000000</td>\n",
       "      <td>0.000000</td>\n",
       "    </tr>\n",
       "    <tr>\n",
       "      <th>s4</th>\n",
       "      <td>0.243296</td>\n",
       "      <td>0.000000</td>\n",
       "      <td>0.000000</td>\n",
       "      <td>0.000000</td>\n",
       "      <td>0.243296</td>\n",
       "      <td>0.191817</td>\n",
       "      <td>0.000000</td>\n",
       "      <td>0.000000</td>\n",
       "      <td>0.000000</td>\n",
       "      <td>0.000000</td>\n",
       "      <td>0.000000</td>\n",
       "      <td>0.243296</td>\n",
       "      <td>0.000000</td>\n",
       "      <td>0.243296</td>\n",
       "      <td>0.243296</td>\n",
       "      <td>0.000000</td>\n",
       "      <td>0.243296</td>\n",
       "      <td>0.243296</td>\n",
       "      <td>0.000000</td>\n",
       "      <td>0.000000</td>\n",
       "      <td>0.000000</td>\n",
       "      <td>0.000000</td>\n",
       "      <td>0.486592</td>\n",
       "      <td>0.000000</td>\n",
       "      <td>0.243296</td>\n",
       "      <td>0.243296</td>\n",
       "      <td>0.243296</td>\n",
       "      <td>0.126962</td>\n",
       "      <td>0.243296</td>\n",
       "      <td>0.000000</td>\n",
       "      <td>0.000000</td>\n",
       "      <td>0.000000</td>\n",
       "      <td>0.243296</td>\n",
       "    </tr>\n",
       "  </tbody>\n",
       "</table>\n",
       "</div>"
      ],
      "text/plain": [
       "     adapted   benefit  benefits  biological   causing     close  \\\n",
       "s1  0.000000  0.000000  0.000000    0.536059  0.000000  0.268030   \n",
       "s2  0.000000  0.318741  0.000000    0.000000  0.000000  0.000000   \n",
       "s3  0.000000  0.254397  0.322671    0.254397  0.000000  0.000000   \n",
       "s4  0.243296  0.000000  0.000000    0.000000  0.243296  0.191817   \n",
       "\n",
       "    commensalism  describes  different  ecological      gain      harm  \\\n",
       "s1      0.000000   0.000000   0.339962    0.000000  0.000000  0.000000   \n",
       "s2      0.000000   0.404283   0.000000    0.404283  0.000000  0.000000   \n",
       "s3      0.322671   0.000000   0.000000    0.000000  0.322671  0.000000   \n",
       "s4      0.000000   0.000000   0.000000    0.000000  0.000000  0.243296   \n",
       "\n",
       "      harmed      host    inside  interaction      life     lives      long  \\\n",
       "s1  0.000000  0.000000  0.000000     0.216993  0.000000  0.000000  0.268030   \n",
       "s2  0.000000  0.000000  0.000000     0.258049  0.000000  0.000000  0.000000   \n",
       "s3  0.322671  0.000000  0.000000     0.205956  0.000000  0.000000  0.254397   \n",
       "s4  0.000000  0.243296  0.243296     0.000000  0.243296  0.243296  0.000000   \n",
       "\n",
       "     members  mutualism       net  organism  organisms  parasite  parasitism  \\\n",
       "s1  0.000000   0.000000  0.000000  0.000000   0.339962  0.000000    0.000000   \n",
       "s2  0.000000   0.404283  0.404283  0.000000   0.000000  0.000000    0.000000   \n",
       "s3  0.322671   0.000000  0.000000  0.000000   0.000000  0.000000    0.000000   \n",
       "s4  0.000000   0.000000  0.000000  0.486592   0.000000  0.243296    0.243296   \n",
       "\n",
       "    relationship   species  structurally  symbiosis      term      type  \\\n",
       "s1      0.000000  0.177406      0.000000   0.268030  0.268030  0.339962   \n",
       "s2      0.000000  0.421943      0.000000   0.000000  0.000000  0.000000   \n",
       "s3      0.000000  0.336766      0.000000   0.254397  0.254397  0.000000   \n",
       "s4      0.243296  0.126962      0.243296   0.000000  0.000000  0.000000   \n",
       "\n",
       "         way  \n",
       "s1  0.000000  \n",
       "s2  0.000000  \n",
       "s3  0.000000  \n",
       "s4  0.243296  "
      ]
     },
     "execution_count": 40,
     "metadata": {},
     "output_type": "execute_result"
    }
   ],
   "source": [
    "# Using default tokenizer in TfidfVectorizer\n",
    "tfidf = TfidfVectorizer(ngram_range=(1, 1), stop_words=\"english\")\n",
    "\n",
    "# Learn the vocabulary dictionary and return document-term matrix\n",
    "features = tfidf.fit_transform(texts)\n",
    "\n",
    "# Visualize result in dataframe\n",
    "pd.DataFrame(\n",
    "    features.todense(),\n",
    "    columns=tfidf.get_feature_names_out(),\n",
    "    index = ['s1', 's2', 's3', 's4']\n",
    ")"
   ]
  },
  {
   "cell_type": "markdown",
   "metadata": {
    "id": "IcrRL3rRqgBy"
   },
   "source": [
    "### Your turn! <a id = \"Your-turn-Representation\"></a>\n",
    "\n",
    "- Create a TF-IDF Representation of the three sentences below using bigrams"
   ]
  },
  {
   "cell_type": "code",
   "execution_count": 44,
   "metadata": {},
   "outputs": [
    {
     "data": {
      "text/plain": [
       "['The linear economy, sometimes referred to as the take-make-waste economy, is a system where resources are extracted to make products that eventually end up as waste and are thrown away.',\n",
       " 'A circular economy is a regenerative economic system that uses renewable energy and resources, reuses materials and products as long as possible, and recycles resources rather than disposing them as waste.',\n",
       " 'A green economy is an economy that aims at reducing environmental risks and ecological scarcities, and that aims for sustainable development without degrading the environment.']"
      ]
     },
     "execution_count": 44,
     "metadata": {},
     "output_type": "execute_result"
    }
   ],
   "source": [
    "# Sentences\n",
    "s1 = \"The linear economy, sometimes referred to as the take-make-waste economy, is a system where resources are extracted to make products that eventually end up as waste and are thrown away.\"\n",
    "s2 = \"A circular economy is a regenerative economic system that uses renewable energy and resources, reuses materials and products as long as possible, and recycles resources rather than disposing them as waste.\"\n",
    "s3 = \"A green economy is an economy that aims at reducing environmental risks and ecological scarcities, and that aims for sustainable development without degrading the environment.\"\n",
    "\n",
    "# List of sentences\n",
    "texts = [s1, s2, s3]\n",
    "texts"
   ]
  },
  {
   "cell_type": "code",
   "execution_count": 45,
   "metadata": {
    "id": "fzo8uviDrTLm"
   },
   "outputs": [
    {
     "name": "stdout",
     "output_type": "stream",
     "text": [
      "[[0 0 0 0 0 0 0 0 0 0 1 0 1 1 0 0 1 1 0 1 0 1 1 0 0 1 0 0 0 1 0 0 0 1 0 0\n",
      "  0 0 0 1 0 1 1]\n",
      " [0 0 1 0 0 1 0 1 0 0 0 1 0 0 1 0 0 0 0 0 1 0 0 1 1 0 1 1 0 0 1 1 1 0 1 1\n",
      "  0 0 0 0 1 0 0]\n",
      " [1 1 0 1 1 0 1 0 1 1 0 0 0 0 0 1 0 0 1 0 0 0 0 0 0 0 0 0 1 0 0 0 0 0 0 0\n",
      "  1 1 1 0 0 0 0]]\n"
     ]
    }
   ],
   "source": [
    "# Using default tokenizer \n",
    "count = CountVectorizer(ngram_range=(2,2), stop_words=\"english\")\n",
    "\n",
    "# Learn the vocabulary dictionary and return document-term matrix\n",
    "bow = count.fit_transform(texts)\n",
    "\n",
    "# Show feature matrix\n",
    "print(bow.toarray())"
   ]
  },
  {
   "cell_type": "code",
   "execution_count": 47,
   "metadata": {},
   "outputs": [
    {
     "name": "stdout",
     "output_type": "stream",
     "text": [
      "Our bigrams are: aims reducing, aims sustainable, circular economy, degrading environment, development degrading, disposing waste, ecological scarcities, economic uses, economy aims, economy economy, economy referred, economy regenerative, economy resources, end waste, energy resources, environmental risks, eventually end, extracted make, green economy, linear economy, long possible, make products, make waste, materials products, possible recycles, products eventually, products long, recycles resources, reducing environmental, referred make, regenerative economic, renewable energy, resources disposing, resources extracted, resources reuses, reuses materials, risks ecological, scarcities aims, sustainable development, thrown away, uses renewable, waste economy, waste thrown\n"
     ]
    }
   ],
   "source": [
    "# Get feature names\n",
    "feature_names = count.get_feature_names_out()\n",
    "\n",
    "# View feature names\n",
    "print('Our bigrams are:', ', '.join(feature_names))"
   ]
  },
  {
   "cell_type": "code",
   "execution_count": 48,
   "metadata": {},
   "outputs": [
    {
     "data": {
      "text/html": [
       "<div>\n",
       "<style scoped>\n",
       "    .dataframe tbody tr th:only-of-type {\n",
       "        vertical-align: middle;\n",
       "    }\n",
       "\n",
       "    .dataframe tbody tr th {\n",
       "        vertical-align: top;\n",
       "    }\n",
       "\n",
       "    .dataframe thead th {\n",
       "        text-align: right;\n",
       "    }\n",
       "</style>\n",
       "<table border=\"1\" class=\"dataframe\">\n",
       "  <thead>\n",
       "    <tr style=\"text-align: right;\">\n",
       "      <th></th>\n",
       "      <th>aims reducing</th>\n",
       "      <th>aims sustainable</th>\n",
       "      <th>circular economy</th>\n",
       "      <th>degrading environment</th>\n",
       "      <th>development degrading</th>\n",
       "      <th>disposing waste</th>\n",
       "      <th>ecological scarcities</th>\n",
       "      <th>economic uses</th>\n",
       "      <th>economy aims</th>\n",
       "      <th>economy economy</th>\n",
       "      <th>economy referred</th>\n",
       "      <th>economy regenerative</th>\n",
       "      <th>economy resources</th>\n",
       "      <th>end waste</th>\n",
       "      <th>energy resources</th>\n",
       "      <th>environmental risks</th>\n",
       "      <th>eventually end</th>\n",
       "      <th>extracted make</th>\n",
       "      <th>green economy</th>\n",
       "      <th>linear economy</th>\n",
       "      <th>long possible</th>\n",
       "      <th>make products</th>\n",
       "      <th>make waste</th>\n",
       "      <th>materials products</th>\n",
       "      <th>possible recycles</th>\n",
       "      <th>products eventually</th>\n",
       "      <th>products long</th>\n",
       "      <th>recycles resources</th>\n",
       "      <th>reducing environmental</th>\n",
       "      <th>referred make</th>\n",
       "      <th>regenerative economic</th>\n",
       "      <th>renewable energy</th>\n",
       "      <th>resources disposing</th>\n",
       "      <th>resources extracted</th>\n",
       "      <th>resources reuses</th>\n",
       "      <th>reuses materials</th>\n",
       "      <th>risks ecological</th>\n",
       "      <th>scarcities aims</th>\n",
       "      <th>sustainable development</th>\n",
       "      <th>thrown away</th>\n",
       "      <th>uses renewable</th>\n",
       "      <th>waste economy</th>\n",
       "      <th>waste thrown</th>\n",
       "    </tr>\n",
       "  </thead>\n",
       "  <tbody>\n",
       "    <tr>\n",
       "      <th>s1</th>\n",
       "      <td>0</td>\n",
       "      <td>0</td>\n",
       "      <td>0</td>\n",
       "      <td>0</td>\n",
       "      <td>0</td>\n",
       "      <td>0</td>\n",
       "      <td>0</td>\n",
       "      <td>0</td>\n",
       "      <td>0</td>\n",
       "      <td>0</td>\n",
       "      <td>1</td>\n",
       "      <td>0</td>\n",
       "      <td>1</td>\n",
       "      <td>1</td>\n",
       "      <td>0</td>\n",
       "      <td>0</td>\n",
       "      <td>1</td>\n",
       "      <td>1</td>\n",
       "      <td>0</td>\n",
       "      <td>1</td>\n",
       "      <td>0</td>\n",
       "      <td>1</td>\n",
       "      <td>1</td>\n",
       "      <td>0</td>\n",
       "      <td>0</td>\n",
       "      <td>1</td>\n",
       "      <td>0</td>\n",
       "      <td>0</td>\n",
       "      <td>0</td>\n",
       "      <td>1</td>\n",
       "      <td>0</td>\n",
       "      <td>0</td>\n",
       "      <td>0</td>\n",
       "      <td>1</td>\n",
       "      <td>0</td>\n",
       "      <td>0</td>\n",
       "      <td>0</td>\n",
       "      <td>0</td>\n",
       "      <td>0</td>\n",
       "      <td>1</td>\n",
       "      <td>0</td>\n",
       "      <td>1</td>\n",
       "      <td>1</td>\n",
       "    </tr>\n",
       "    <tr>\n",
       "      <th>s2</th>\n",
       "      <td>0</td>\n",
       "      <td>0</td>\n",
       "      <td>1</td>\n",
       "      <td>0</td>\n",
       "      <td>0</td>\n",
       "      <td>1</td>\n",
       "      <td>0</td>\n",
       "      <td>1</td>\n",
       "      <td>0</td>\n",
       "      <td>0</td>\n",
       "      <td>0</td>\n",
       "      <td>1</td>\n",
       "      <td>0</td>\n",
       "      <td>0</td>\n",
       "      <td>1</td>\n",
       "      <td>0</td>\n",
       "      <td>0</td>\n",
       "      <td>0</td>\n",
       "      <td>0</td>\n",
       "      <td>0</td>\n",
       "      <td>1</td>\n",
       "      <td>0</td>\n",
       "      <td>0</td>\n",
       "      <td>1</td>\n",
       "      <td>1</td>\n",
       "      <td>0</td>\n",
       "      <td>1</td>\n",
       "      <td>1</td>\n",
       "      <td>0</td>\n",
       "      <td>0</td>\n",
       "      <td>1</td>\n",
       "      <td>1</td>\n",
       "      <td>1</td>\n",
       "      <td>0</td>\n",
       "      <td>1</td>\n",
       "      <td>1</td>\n",
       "      <td>0</td>\n",
       "      <td>0</td>\n",
       "      <td>0</td>\n",
       "      <td>0</td>\n",
       "      <td>1</td>\n",
       "      <td>0</td>\n",
       "      <td>0</td>\n",
       "    </tr>\n",
       "    <tr>\n",
       "      <th>s3</th>\n",
       "      <td>1</td>\n",
       "      <td>1</td>\n",
       "      <td>0</td>\n",
       "      <td>1</td>\n",
       "      <td>1</td>\n",
       "      <td>0</td>\n",
       "      <td>1</td>\n",
       "      <td>0</td>\n",
       "      <td>1</td>\n",
       "      <td>1</td>\n",
       "      <td>0</td>\n",
       "      <td>0</td>\n",
       "      <td>0</td>\n",
       "      <td>0</td>\n",
       "      <td>0</td>\n",
       "      <td>1</td>\n",
       "      <td>0</td>\n",
       "      <td>0</td>\n",
       "      <td>1</td>\n",
       "      <td>0</td>\n",
       "      <td>0</td>\n",
       "      <td>0</td>\n",
       "      <td>0</td>\n",
       "      <td>0</td>\n",
       "      <td>0</td>\n",
       "      <td>0</td>\n",
       "      <td>0</td>\n",
       "      <td>0</td>\n",
       "      <td>1</td>\n",
       "      <td>0</td>\n",
       "      <td>0</td>\n",
       "      <td>0</td>\n",
       "      <td>0</td>\n",
       "      <td>0</td>\n",
       "      <td>0</td>\n",
       "      <td>0</td>\n",
       "      <td>1</td>\n",
       "      <td>1</td>\n",
       "      <td>1</td>\n",
       "      <td>0</td>\n",
       "      <td>0</td>\n",
       "      <td>0</td>\n",
       "      <td>0</td>\n",
       "    </tr>\n",
       "  </tbody>\n",
       "</table>\n",
       "</div>"
      ],
      "text/plain": [
       "    aims reducing  aims sustainable  circular economy  degrading environment  \\\n",
       "s1              0                 0                 0                      0   \n",
       "s2              0                 0                 1                      0   \n",
       "s3              1                 1                 0                      1   \n",
       "\n",
       "    development degrading  disposing waste  ecological scarcities  \\\n",
       "s1                      0                0                      0   \n",
       "s2                      0                1                      0   \n",
       "s3                      1                0                      1   \n",
       "\n",
       "    economic uses  economy aims  economy economy  economy referred  \\\n",
       "s1              0             0                0                 1   \n",
       "s2              1             0                0                 0   \n",
       "s3              0             1                1                 0   \n",
       "\n",
       "    economy regenerative  economy resources  end waste  energy resources  \\\n",
       "s1                     0                  1          1                 0   \n",
       "s2                     1                  0          0                 1   \n",
       "s3                     0                  0          0                 0   \n",
       "\n",
       "    environmental risks  eventually end  extracted make  green economy  \\\n",
       "s1                    0               1               1              0   \n",
       "s2                    0               0               0              0   \n",
       "s3                    1               0               0              1   \n",
       "\n",
       "    linear economy  long possible  make products  make waste  \\\n",
       "s1               1              0              1           1   \n",
       "s2               0              1              0           0   \n",
       "s3               0              0              0           0   \n",
       "\n",
       "    materials products  possible recycles  products eventually  products long  \\\n",
       "s1                   0                  0                    1              0   \n",
       "s2                   1                  1                    0              1   \n",
       "s3                   0                  0                    0              0   \n",
       "\n",
       "    recycles resources  reducing environmental  referred make  \\\n",
       "s1                   0                       0              1   \n",
       "s2                   1                       0              0   \n",
       "s3                   0                       1              0   \n",
       "\n",
       "    regenerative economic  renewable energy  resources disposing  \\\n",
       "s1                      0                 0                    0   \n",
       "s2                      1                 1                    1   \n",
       "s3                      0                 0                    0   \n",
       "\n",
       "    resources extracted  resources reuses  reuses materials  risks ecological  \\\n",
       "s1                    1                 0                 0                 0   \n",
       "s2                    0                 1                 1                 0   \n",
       "s3                    0                 0                 0                 1   \n",
       "\n",
       "    scarcities aims  sustainable development  thrown away  uses renewable  \\\n",
       "s1                0                        0            1               0   \n",
       "s2                0                        0            0               1   \n",
       "s3                1                        1            0               0   \n",
       "\n",
       "    waste economy  waste thrown  \n",
       "s1              1             1  \n",
       "s2              0             0  \n",
       "s3              0             0  "
      ]
     },
     "execution_count": 48,
     "metadata": {},
     "output_type": "execute_result"
    }
   ],
   "source": [
    "# Show as a dataframe\n",
    "pd.set_option(\"display.max_columns\", None)\n",
    "pd.DataFrame(\n",
    "    bow.todense(),              # Feature matrix\n",
    "    columns=feature_names,      # n-grams\n",
    "    index= ['s1', 's2', 's3']\n",
    "    )"
   ]
  },
  {
   "cell_type": "code",
   "execution_count": 49,
   "metadata": {},
   "outputs": [
    {
     "data": {
      "text/html": [
       "<div>\n",
       "<style scoped>\n",
       "    .dataframe tbody tr th:only-of-type {\n",
       "        vertical-align: middle;\n",
       "    }\n",
       "\n",
       "    .dataframe tbody tr th {\n",
       "        vertical-align: top;\n",
       "    }\n",
       "\n",
       "    .dataframe thead th {\n",
       "        text-align: right;\n",
       "    }\n",
       "</style>\n",
       "<table border=\"1\" class=\"dataframe\">\n",
       "  <thead>\n",
       "    <tr style=\"text-align: right;\">\n",
       "      <th></th>\n",
       "      <th>aims reducing</th>\n",
       "      <th>aims sustainable</th>\n",
       "      <th>circular economy</th>\n",
       "      <th>degrading environment</th>\n",
       "      <th>development degrading</th>\n",
       "      <th>disposing waste</th>\n",
       "      <th>ecological scarcities</th>\n",
       "      <th>economic uses</th>\n",
       "      <th>economy aims</th>\n",
       "      <th>economy economy</th>\n",
       "      <th>economy referred</th>\n",
       "      <th>economy regenerative</th>\n",
       "      <th>economy resources</th>\n",
       "      <th>end waste</th>\n",
       "      <th>energy resources</th>\n",
       "      <th>environmental risks</th>\n",
       "      <th>eventually end</th>\n",
       "      <th>extracted make</th>\n",
       "      <th>green economy</th>\n",
       "      <th>linear economy</th>\n",
       "      <th>long possible</th>\n",
       "      <th>make products</th>\n",
       "      <th>make waste</th>\n",
       "      <th>materials products</th>\n",
       "      <th>possible recycles</th>\n",
       "      <th>products eventually</th>\n",
       "      <th>products long</th>\n",
       "      <th>recycles resources</th>\n",
       "      <th>reducing environmental</th>\n",
       "      <th>referred make</th>\n",
       "      <th>regenerative economic</th>\n",
       "      <th>renewable energy</th>\n",
       "      <th>resources disposing</th>\n",
       "      <th>resources extracted</th>\n",
       "      <th>resources reuses</th>\n",
       "      <th>reuses materials</th>\n",
       "      <th>risks ecological</th>\n",
       "      <th>scarcities aims</th>\n",
       "      <th>sustainable development</th>\n",
       "      <th>thrown away</th>\n",
       "      <th>uses renewable</th>\n",
       "      <th>waste economy</th>\n",
       "      <th>waste thrown</th>\n",
       "    </tr>\n",
       "  </thead>\n",
       "  <tbody>\n",
       "    <tr>\n",
       "      <th>s1</th>\n",
       "      <td>0.00000</td>\n",
       "      <td>0.00000</td>\n",
       "      <td>0.00</td>\n",
       "      <td>0.00000</td>\n",
       "      <td>0.00000</td>\n",
       "      <td>0.00</td>\n",
       "      <td>0.00000</td>\n",
       "      <td>0.00</td>\n",
       "      <td>0.00000</td>\n",
       "      <td>0.00000</td>\n",
       "      <td>0.267261</td>\n",
       "      <td>0.00</td>\n",
       "      <td>0.267261</td>\n",
       "      <td>0.267261</td>\n",
       "      <td>0.00</td>\n",
       "      <td>0.00000</td>\n",
       "      <td>0.267261</td>\n",
       "      <td>0.267261</td>\n",
       "      <td>0.00000</td>\n",
       "      <td>0.267261</td>\n",
       "      <td>0.00</td>\n",
       "      <td>0.267261</td>\n",
       "      <td>0.267261</td>\n",
       "      <td>0.00</td>\n",
       "      <td>0.00</td>\n",
       "      <td>0.267261</td>\n",
       "      <td>0.00</td>\n",
       "      <td>0.00</td>\n",
       "      <td>0.00000</td>\n",
       "      <td>0.267261</td>\n",
       "      <td>0.00</td>\n",
       "      <td>0.00</td>\n",
       "      <td>0.00</td>\n",
       "      <td>0.267261</td>\n",
       "      <td>0.00</td>\n",
       "      <td>0.00</td>\n",
       "      <td>0.00000</td>\n",
       "      <td>0.00000</td>\n",
       "      <td>0.00000</td>\n",
       "      <td>0.267261</td>\n",
       "      <td>0.00</td>\n",
       "      <td>0.267261</td>\n",
       "      <td>0.267261</td>\n",
       "    </tr>\n",
       "    <tr>\n",
       "      <th>s2</th>\n",
       "      <td>0.00000</td>\n",
       "      <td>0.00000</td>\n",
       "      <td>0.25</td>\n",
       "      <td>0.00000</td>\n",
       "      <td>0.00000</td>\n",
       "      <td>0.25</td>\n",
       "      <td>0.00000</td>\n",
       "      <td>0.25</td>\n",
       "      <td>0.00000</td>\n",
       "      <td>0.00000</td>\n",
       "      <td>0.000000</td>\n",
       "      <td>0.25</td>\n",
       "      <td>0.000000</td>\n",
       "      <td>0.000000</td>\n",
       "      <td>0.25</td>\n",
       "      <td>0.00000</td>\n",
       "      <td>0.000000</td>\n",
       "      <td>0.000000</td>\n",
       "      <td>0.00000</td>\n",
       "      <td>0.000000</td>\n",
       "      <td>0.25</td>\n",
       "      <td>0.000000</td>\n",
       "      <td>0.000000</td>\n",
       "      <td>0.25</td>\n",
       "      <td>0.25</td>\n",
       "      <td>0.000000</td>\n",
       "      <td>0.25</td>\n",
       "      <td>0.25</td>\n",
       "      <td>0.00000</td>\n",
       "      <td>0.000000</td>\n",
       "      <td>0.25</td>\n",
       "      <td>0.25</td>\n",
       "      <td>0.25</td>\n",
       "      <td>0.000000</td>\n",
       "      <td>0.25</td>\n",
       "      <td>0.25</td>\n",
       "      <td>0.00000</td>\n",
       "      <td>0.00000</td>\n",
       "      <td>0.00000</td>\n",
       "      <td>0.000000</td>\n",
       "      <td>0.25</td>\n",
       "      <td>0.000000</td>\n",
       "      <td>0.000000</td>\n",
       "    </tr>\n",
       "    <tr>\n",
       "      <th>s3</th>\n",
       "      <td>0.27735</td>\n",
       "      <td>0.27735</td>\n",
       "      <td>0.00</td>\n",
       "      <td>0.27735</td>\n",
       "      <td>0.27735</td>\n",
       "      <td>0.00</td>\n",
       "      <td>0.27735</td>\n",
       "      <td>0.00</td>\n",
       "      <td>0.27735</td>\n",
       "      <td>0.27735</td>\n",
       "      <td>0.000000</td>\n",
       "      <td>0.00</td>\n",
       "      <td>0.000000</td>\n",
       "      <td>0.000000</td>\n",
       "      <td>0.00</td>\n",
       "      <td>0.27735</td>\n",
       "      <td>0.000000</td>\n",
       "      <td>0.000000</td>\n",
       "      <td>0.27735</td>\n",
       "      <td>0.000000</td>\n",
       "      <td>0.00</td>\n",
       "      <td>0.000000</td>\n",
       "      <td>0.000000</td>\n",
       "      <td>0.00</td>\n",
       "      <td>0.00</td>\n",
       "      <td>0.000000</td>\n",
       "      <td>0.00</td>\n",
       "      <td>0.00</td>\n",
       "      <td>0.27735</td>\n",
       "      <td>0.000000</td>\n",
       "      <td>0.00</td>\n",
       "      <td>0.00</td>\n",
       "      <td>0.00</td>\n",
       "      <td>0.000000</td>\n",
       "      <td>0.00</td>\n",
       "      <td>0.00</td>\n",
       "      <td>0.27735</td>\n",
       "      <td>0.27735</td>\n",
       "      <td>0.27735</td>\n",
       "      <td>0.000000</td>\n",
       "      <td>0.00</td>\n",
       "      <td>0.000000</td>\n",
       "      <td>0.000000</td>\n",
       "    </tr>\n",
       "  </tbody>\n",
       "</table>\n",
       "</div>"
      ],
      "text/plain": [
       "    aims reducing  aims sustainable  circular economy  degrading environment  \\\n",
       "s1        0.00000           0.00000              0.00                0.00000   \n",
       "s2        0.00000           0.00000              0.25                0.00000   \n",
       "s3        0.27735           0.27735              0.00                0.27735   \n",
       "\n",
       "    development degrading  disposing waste  ecological scarcities  \\\n",
       "s1                0.00000             0.00                0.00000   \n",
       "s2                0.00000             0.25                0.00000   \n",
       "s3                0.27735             0.00                0.27735   \n",
       "\n",
       "    economic uses  economy aims  economy economy  economy referred  \\\n",
       "s1           0.00       0.00000          0.00000          0.267261   \n",
       "s2           0.25       0.00000          0.00000          0.000000   \n",
       "s3           0.00       0.27735          0.27735          0.000000   \n",
       "\n",
       "    economy regenerative  economy resources  end waste  energy resources  \\\n",
       "s1                  0.00           0.267261   0.267261              0.00   \n",
       "s2                  0.25           0.000000   0.000000              0.25   \n",
       "s3                  0.00           0.000000   0.000000              0.00   \n",
       "\n",
       "    environmental risks  eventually end  extracted make  green economy  \\\n",
       "s1              0.00000        0.267261        0.267261        0.00000   \n",
       "s2              0.00000        0.000000        0.000000        0.00000   \n",
       "s3              0.27735        0.000000        0.000000        0.27735   \n",
       "\n",
       "    linear economy  long possible  make products  make waste  \\\n",
       "s1        0.267261           0.00       0.267261    0.267261   \n",
       "s2        0.000000           0.25       0.000000    0.000000   \n",
       "s3        0.000000           0.00       0.000000    0.000000   \n",
       "\n",
       "    materials products  possible recycles  products eventually  products long  \\\n",
       "s1                0.00               0.00             0.267261           0.00   \n",
       "s2                0.25               0.25             0.000000           0.25   \n",
       "s3                0.00               0.00             0.000000           0.00   \n",
       "\n",
       "    recycles resources  reducing environmental  referred make  \\\n",
       "s1                0.00                 0.00000       0.267261   \n",
       "s2                0.25                 0.00000       0.000000   \n",
       "s3                0.00                 0.27735       0.000000   \n",
       "\n",
       "    regenerative economic  renewable energy  resources disposing  \\\n",
       "s1                   0.00              0.00                 0.00   \n",
       "s2                   0.25              0.25                 0.25   \n",
       "s3                   0.00              0.00                 0.00   \n",
       "\n",
       "    resources extracted  resources reuses  reuses materials  risks ecological  \\\n",
       "s1             0.267261              0.00              0.00           0.00000   \n",
       "s2             0.000000              0.25              0.25           0.00000   \n",
       "s3             0.000000              0.00              0.00           0.27735   \n",
       "\n",
       "    scarcities aims  sustainable development  thrown away  uses renewable  \\\n",
       "s1          0.00000                  0.00000     0.267261            0.00   \n",
       "s2          0.00000                  0.00000     0.000000            0.25   \n",
       "s3          0.27735                  0.27735     0.000000            0.00   \n",
       "\n",
       "    waste economy  waste thrown  \n",
       "s1       0.267261      0.267261  \n",
       "s2       0.000000      0.000000  \n",
       "s3       0.000000      0.000000  "
      ]
     },
     "execution_count": 49,
     "metadata": {},
     "output_type": "execute_result"
    }
   ],
   "source": [
    "# Using default tokenizer in TfidfVectorizer\n",
    "tfidf = TfidfVectorizer(ngram_range=(2, 2), stop_words=\"english\")\n",
    "\n",
    "# Learn the vocabulary dictionary and return document-term matrix\n",
    "features = tfidf.fit_transform(texts)\n",
    "\n",
    "# Visualize result in dataframe\n",
    "pd.DataFrame(\n",
    "    features.todense(),\n",
    "    columns=tfidf.get_feature_names_out(),\n",
    "    index = ['s1', 's2', 's3']\n",
    ")"
   ]
  },
  {
   "cell_type": "markdown",
   "metadata": {},
   "source": [
    "## Application: Text Similarity <a id = \"Your-turn-Similarity\"></a>"
   ]
  },
  {
   "cell_type": "markdown",
   "metadata": {},
   "source": [
    "In this application, we will compute the similarity between various texts. We'll use Wikipedia articles, relying on the `wikipedia` library ([Documentation](https://pypi.org/project/wikipedia/)) to avoid doing the preprocessing, e.g., web scrapping to extract the articles. You can install the library using `pip install wikipedia`."
   ]
  },
  {
   "cell_type": "code",
   "execution_count": 50,
   "metadata": {},
   "outputs": [],
   "source": [
    "topics = [\"Albert Einstein\",\n",
    "          \"Adam Smith\",\n",
    "          \"Alexander von Humboldt\",\n",
    "          \"Amartya Sen\",\n",
    "          \"Daniel Kahneman\",\n",
    "          \"John von Neumann\",\n",
    "          \"Joseph Stiglitz\",\n",
    "          \"Stephen Hawking\"\n",
    "]\n",
    "\n",
    "# Extract summary of articles\n",
    "data_wiki = [wikipedia.summary(topics[p], sentences=20) for p in range(len(topics))]"
   ]
  },
  {
   "cell_type": "markdown",
   "metadata": {},
   "source": [
    "Let's learn a bit more about [Alexander von Humboldt](https://en.wikipedia.org/wiki/Alexander_von_Humboldt):"
   ]
  },
  {
   "cell_type": "code",
   "execution_count": 51,
   "metadata": {},
   "outputs": [
    {
     "data": {
      "text/plain": [
       "'Friedrich Wilhelm Heinrich Alexander von Humboldt (14 September 1769 – 6 May 1859) was a German polymath, geographer, naturalist, explorer, and proponent of Romantic philosophy and science. He was the younger brother of the Prussian minister, philosopher, and linguist Wilhelm von Humboldt (1767–1835). Humboldt\\'s quantitative work on botanical geography laid the foundation for the field of biogeography. Humboldt\\'s advocacy of long-term systematic geophysical measurement laid the foundation for modern geomagnetic and meteorological monitoring.Between 1799 and 1804, Humboldt travelled extensively in the Americas, exploring and describing them for the first time from a modern Western scientific point of view. His description of the journey was written up and published in several volumes over 21 years. Humboldt was one of the first people to propose that the lands bordering the Atlantic Ocean were once joined (South America and Africa in particular).\\nHumboldt resurrected the use of the word cosmos from the ancient Greek and assigned it to his multivolume treatise, Kosmos, in which he sought to unify diverse branches of scientific knowledge and culture. This important work also motivated a holistic perception of the universe as one interacting entity, which introduced concepts of ecology leading to ideas of environmentalism. In 1800, and again in 1831, he described scientifically, on the basis of observations generated during his travels, local impacts of development causing human-induced climate change.Humboldt is seen as \"the father of ecology\" and \"the father of environmentalism\".\\n\\n\\n== Early life, family and education ==\\n\\nAlexander von Humboldt was born in Berlin in Prussia on 14 September 1769.'"
      ]
     },
     "execution_count": 51,
     "metadata": {},
     "output_type": "execute_result"
    }
   ],
   "source": [
    "data_wiki[2]"
   ]
  },
  {
   "cell_type": "markdown",
   "metadata": {},
   "source": [
    "The \"father of ecology\", not bad! Ok, let's start our similarity analysis."
   ]
  },
  {
   "cell_type": "markdown",
   "metadata": {},
   "source": [
    "### Converting text into vectors\n",
    "\n",
    "The first step is to convert our articles into numerical features. We use `CountVectorizer`, i.e., the Bag of Words technique, with tokens and pair of tokens (2-grams), and without stopwords."
   ]
  },
  {
   "cell_type": "code",
   "execution_count": 52,
   "metadata": {},
   "outputs": [],
   "source": [
    "# Using default tokenizer \n",
    "count_wiki = CountVectorizer(ngram_range=(1,2), stop_words = None)\n",
    "bow_wiki = count_wiki.fit_transform(data_wiki)"
   ]
  },
  {
   "cell_type": "markdown",
   "metadata": {},
   "source": [
    "### Cosine similarity\n",
    "\n",
    "We can now compute the **cosine similarity**. We use the `cosine_similarity` module of sklearn ([Documentation](https://scikit-learn.org/stable/modules/generated/sklearn.metrics.pairwise.cosine_similarity.html#sklearn.metrics.pairwise.cosine_similarity))."
   ]
  },
  {
   "cell_type": "code",
   "execution_count": 53,
   "metadata": {},
   "outputs": [
    {
     "data": {
      "text/html": [
       "<div>\n",
       "<style scoped>\n",
       "    .dataframe tbody tr th:only-of-type {\n",
       "        vertical-align: middle;\n",
       "    }\n",
       "\n",
       "    .dataframe tbody tr th {\n",
       "        vertical-align: top;\n",
       "    }\n",
       "\n",
       "    .dataframe thead th {\n",
       "        text-align: right;\n",
       "    }\n",
       "</style>\n",
       "<table border=\"1\" class=\"dataframe\">\n",
       "  <thead>\n",
       "    <tr style=\"text-align: right;\">\n",
       "      <th></th>\n",
       "      <th>Albert Einstein</th>\n",
       "      <th>Adam Smith</th>\n",
       "      <th>Alexander von Humboldt</th>\n",
       "      <th>Amartya Sen</th>\n",
       "      <th>Daniel Kahneman</th>\n",
       "      <th>John von Neumann</th>\n",
       "      <th>Joseph Stiglitz</th>\n",
       "      <th>Stephen Hawking</th>\n",
       "    </tr>\n",
       "  </thead>\n",
       "  <tbody>\n",
       "    <tr>\n",
       "      <th>Albert Einstein</th>\n",
       "      <td>1.000000</td>\n",
       "      <td>0.586871</td>\n",
       "      <td>0.590091</td>\n",
       "      <td>0.469710</td>\n",
       "      <td>0.470895</td>\n",
       "      <td>0.624605</td>\n",
       "      <td>0.569374</td>\n",
       "      <td>0.600497</td>\n",
       "    </tr>\n",
       "    <tr>\n",
       "      <th>Adam Smith</th>\n",
       "      <td>0.586871</td>\n",
       "      <td>1.000000</td>\n",
       "      <td>0.637057</td>\n",
       "      <td>0.535201</td>\n",
       "      <td>0.502122</td>\n",
       "      <td>0.621983</td>\n",
       "      <td>0.589942</td>\n",
       "      <td>0.611138</td>\n",
       "    </tr>\n",
       "    <tr>\n",
       "      <th>Alexander von Humboldt</th>\n",
       "      <td>0.590091</td>\n",
       "      <td>0.637057</td>\n",
       "      <td>1.000000</td>\n",
       "      <td>0.534380</td>\n",
       "      <td>0.523306</td>\n",
       "      <td>0.637488</td>\n",
       "      <td>0.572505</td>\n",
       "      <td>0.588187</td>\n",
       "    </tr>\n",
       "    <tr>\n",
       "      <th>Amartya Sen</th>\n",
       "      <td>0.469710</td>\n",
       "      <td>0.535201</td>\n",
       "      <td>0.534380</td>\n",
       "      <td>1.000000</td>\n",
       "      <td>0.570070</td>\n",
       "      <td>0.549154</td>\n",
       "      <td>0.539351</td>\n",
       "      <td>0.547951</td>\n",
       "    </tr>\n",
       "    <tr>\n",
       "      <th>Daniel Kahneman</th>\n",
       "      <td>0.470895</td>\n",
       "      <td>0.502122</td>\n",
       "      <td>0.523306</td>\n",
       "      <td>0.570070</td>\n",
       "      <td>1.000000</td>\n",
       "      <td>0.555141</td>\n",
       "      <td>0.494984</td>\n",
       "      <td>0.534184</td>\n",
       "    </tr>\n",
       "    <tr>\n",
       "      <th>John von Neumann</th>\n",
       "      <td>0.624605</td>\n",
       "      <td>0.621983</td>\n",
       "      <td>0.637488</td>\n",
       "      <td>0.549154</td>\n",
       "      <td>0.555141</td>\n",
       "      <td>1.000000</td>\n",
       "      <td>0.575963</td>\n",
       "      <td>0.620196</td>\n",
       "    </tr>\n",
       "    <tr>\n",
       "      <th>Joseph Stiglitz</th>\n",
       "      <td>0.569374</td>\n",
       "      <td>0.589942</td>\n",
       "      <td>0.572505</td>\n",
       "      <td>0.539351</td>\n",
       "      <td>0.494984</td>\n",
       "      <td>0.575963</td>\n",
       "      <td>1.000000</td>\n",
       "      <td>0.578296</td>\n",
       "    </tr>\n",
       "    <tr>\n",
       "      <th>Stephen Hawking</th>\n",
       "      <td>0.600497</td>\n",
       "      <td>0.611138</td>\n",
       "      <td>0.588187</td>\n",
       "      <td>0.547951</td>\n",
       "      <td>0.534184</td>\n",
       "      <td>0.620196</td>\n",
       "      <td>0.578296</td>\n",
       "      <td>1.000000</td>\n",
       "    </tr>\n",
       "  </tbody>\n",
       "</table>\n",
       "</div>"
      ],
      "text/plain": [
       "                        Albert Einstein  Adam Smith  Alexander von Humboldt  \\\n",
       "Albert Einstein                1.000000    0.586871                0.590091   \n",
       "Adam Smith                     0.586871    1.000000                0.637057   \n",
       "Alexander von Humboldt         0.590091    0.637057                1.000000   \n",
       "Amartya Sen                    0.469710    0.535201                0.534380   \n",
       "Daniel Kahneman                0.470895    0.502122                0.523306   \n",
       "John von Neumann               0.624605    0.621983                0.637488   \n",
       "Joseph Stiglitz                0.569374    0.589942                0.572505   \n",
       "Stephen Hawking                0.600497    0.611138                0.588187   \n",
       "\n",
       "                        Amartya Sen  Daniel Kahneman  John von Neumann  \\\n",
       "Albert Einstein            0.469710         0.470895          0.624605   \n",
       "Adam Smith                 0.535201         0.502122          0.621983   \n",
       "Alexander von Humboldt     0.534380         0.523306          0.637488   \n",
       "Amartya Sen                1.000000         0.570070          0.549154   \n",
       "Daniel Kahneman            0.570070         1.000000          0.555141   \n",
       "John von Neumann           0.549154         0.555141          1.000000   \n",
       "Joseph Stiglitz            0.539351         0.494984          0.575963   \n",
       "Stephen Hawking            0.547951         0.534184          0.620196   \n",
       "\n",
       "                        Joseph Stiglitz  Stephen Hawking  \n",
       "Albert Einstein                0.569374         0.600497  \n",
       "Adam Smith                     0.589942         0.611138  \n",
       "Alexander von Humboldt         0.572505         0.588187  \n",
       "Amartya Sen                    0.539351         0.547951  \n",
       "Daniel Kahneman                0.494984         0.534184  \n",
       "John von Neumann               0.575963         0.620196  \n",
       "Joseph Stiglitz                1.000000         0.578296  \n",
       "Stephen Hawking                0.578296         1.000000  "
      ]
     },
     "execution_count": 53,
     "metadata": {},
     "output_type": "execute_result"
    }
   ],
   "source": [
    "# Compute pairwise similarities\n",
    "pairwise_similarities = cosine_similarity(bow_wiki, bow_wiki)\n",
    "\n",
    "# Visualize result in dataframe\n",
    "pairwise_df = pd.DataFrame(\n",
    "    pairwise_similarities,\n",
    "    columns = topics,\n",
    "    index = topics\n",
    ")\n",
    "pairwise_df"
   ]
  },
  {
   "cell_type": "markdown",
   "metadata": {},
   "source": [
    "Let's plot a heatmap to obtain a more visual representation:"
   ]
  },
  {
   "cell_type": "code",
   "execution_count": 54,
   "metadata": {},
   "outputs": [
    {
     "data": {
      "image/png": "[encoded data removed]",
      "text/plain": [
       "<Figure size 1500x500 with 2 Axes>"
      ]
     },
     "metadata": {},
     "output_type": "display_data"
    }
   ],
   "source": [
    "# Heatmap of pairwise similarities\n",
    "plt.figure(figsize=(15,5))\n",
    "sns.heatmap(\n",
    "    pairwise_df,\n",
    "    cmap='OrRd',\n",
    "    linewidth=1,\n",
    "    annot=True\n",
    ")\n",
    "plt.show()"
   ]
  },
  {
   "cell_type": "markdown",
   "metadata": {},
   "source": [
    "### Your turn!\n",
    "\n",
    "Let's continue the exploration of similarities between our articles.\n",
    "\n",
    "- Compute a heatmap of the pairwise similarities, varying the vectorization technique (`CountVectorizer`, `TfidfVectorizer`), the ngram range, and the stopwords (e.g., `None`, \"english\"). How do your model compares?\n",
    "\n",
    "*Note:* you could define a function and try interactive features."
   ]
  },
  {
   "cell_type": "code",
   "execution_count": 58,
   "metadata": {},
   "outputs": [
    {
     "data": {
      "image/png": "[encoded data removed]",
      "text/plain": [
       "<Figure size 1500x500 with 2 Axes>"
      ]
     },
     "metadata": {},
     "output_type": "display_data"
    },
    {
     "name": "stdout",
     "output_type": "stream",
     "text": [
      "Vectorization Technique: <class 'sklearn.feature_extraction.text.CountVectorizer'> \n",
      "ngram range: (1, 10) \n",
      "Stopwords: None\n"
     ]
    }
   ],
   "source": [
    "def pairwise_similarities(vectorization_technique, n_grams, stopwords):\n",
    "    \n",
    "    # Using default tokenizer \n",
    "    count_wiki = vectorization_technique(ngram_range = n_grams, stop_words = stopwords)\n",
    "    bow_wiki = count_wiki.fit_transform(data_wiki)\n",
    "    \n",
    "    \n",
    "    # Compute pairwise similarities\n",
    "    pairwise_similarities = cosine_similarity(bow_wiki, bow_wiki)\n",
    "\n",
    "    # Visualize result in dataframe\n",
    "    pairwise_df = pd.DataFrame(\n",
    "    pairwise_similarities,\n",
    "    columns = topics,\n",
    "    index = topics\n",
    "    )\n",
    "    pairwise_df\n",
    "\n",
    "\n",
    "    # Heatmap of pairwise similarities\n",
    "    plt.figure(figsize=(15,5))\n",
    "    sns.heatmap(\n",
    "    pairwise_df,\n",
    "    cmap = 'OrRd',\n",
    "    linewidth = 1,\n",
    "    annot = True\n",
    "    )\n",
    "    plt.show()\n",
    "    print(\"Vectorization Technique:\", vectorization_technique, \"\\nngram range:\", \n",
    "          n_grams, \"\\nStopwords:\", stopwords )\n",
    "    \n",
    "pairwise_similarities(CountVectorizer, (1,10), None)"
   ]
  },
  {
   "cell_type": "code",
   "execution_count": 59,
   "metadata": {},
   "outputs": [
    {
     "data": {
      "image/png": "[encoded data removed]",
      "text/plain": [
       "<Figure size 1500x500 with 2 Axes>"
      ]
     },
     "metadata": {},
     "output_type": "display_data"
    },
    {
     "name": "stdout",
     "output_type": "stream",
     "text": [
      "Vectorization Technique: <class 'sklearn.feature_extraction.text.TfidfVectorizer'> \n",
      "ngram range: (1, 10) \n",
      "Stopwords: english\n"
     ]
    }
   ],
   "source": [
    "pairwise_similarities(TfidfVectorizer, (1,10), \"english\")"
   ]
  },
  {
   "cell_type": "markdown",
   "metadata": {},
   "source": [
    "- Repeat the previous operations, but this time using the full text for each Wikipedia entry. What do you observe?"
   ]
  },
  {
   "cell_type": "code",
   "execution_count": null,
   "metadata": {},
   "outputs": [],
   "source": [
    "data_full_wiki = [wikipedia.page(topics[p]).content for p in range(len(topics))]"
   ]
  },
  {
   "cell_type": "code",
   "execution_count": null,
   "metadata": {},
   "outputs": [],
   "source": [
    "# YOUR CODE HERE\n"
   ]
  }
 ],
 "metadata": {
  "colab": {
   "collapsed_sections": [],
   "provenance": []
  },
  "kernelspec": {
   "display_name": "Python 3 (ipykernel)",
   "language": "python",
   "name": "python3"
  },
  "language_info": {
   "codemirror_mode": {
    "name": "ipython",
    "version": 3
   },
   "file_extension": ".py",
   "mimetype": "text/x-python",
   "name": "python",
   "nbconvert_exporter": "python",
   "pygments_lexer": "ipython3",
   "version": "3.9.13"
  },
  "toc": {
   "base_numbering": 1,
   "nav_menu": {},
   "number_sections": true,
   "sideBar": true,
   "skip_h1_title": false,
   "title_cell": "Table of Contents",
   "title_sidebar": "Contents",
   "toc_cell": false,
   "toc_position": {},
   "toc_section_display": true,
   "toc_window_display": false
  }
 },
 "nbformat": 4,
 "nbformat_minor": 4
}
